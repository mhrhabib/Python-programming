{
 "cells": [
  {
   "cell_type": "code",
   "execution_count": 9,
   "metadata": {},
   "outputs": [
    {
     "name": "stdout",
     "output_type": "stream",
     "text": [
      "Enter number of rows: 5\n",
      "* \n",
      "* * \n",
      "* * * \n",
      "* * * * \n",
      "* * * * * \n"
     ]
    }
   ],
   "source": [
    "row = int(input(\"Enter number of rows: \"))\n",
    "for i in range(0,row):\n",
    "    for j in range(0, i+1):\n",
    "        print(\"*\", end=\" \")\n",
    "    print()"
   ]
  },
  {
   "cell_type": "code",
   "execution_count": 5,
   "metadata": {},
   "outputs": [
    {
     "name": "stdout",
     "output_type": "stream",
     "text": [
      "Enter number of rows: 5\n",
      "\n",
      "* \n",
      "* * \n",
      "* * * \n",
      "* * * * \n",
      "* * * * * \n",
      "* * * * \n",
      "* * * \n",
      "* * \n",
      "* \n"
     ]
    }
   ],
   "source": [
    "row = int(input(\"Enter number of rows: \"))\n",
    "for i in range(0,row):\n",
    "    for j in range(0, i):\n",
    "        print(\"*\", end=\" \")\n",
    "    print()\n",
    "    \n",
    "for i in range(row, 0, -1):\n",
    "    for j in range(i):\n",
    "        print(\"*\", end=\" \")\n",
    "    print()"
   ]
  },
  {
   "cell_type": "code",
   "execution_count": 2,
   "metadata": {},
   "outputs": [
    {
     "name": "stdout",
     "output_type": "stream",
     "text": [
      "*\n"
     ]
    }
   ],
   "source": [
    "for i in range (0,1):\n",
    "    print(\"*\")"
   ]
  },
  {
   "cell_type": "code",
   "execution_count": 4,
   "metadata": {},
   "outputs": [
    {
     "name": "stdout",
     "output_type": "stream",
     "text": [
      "Enter the number of rows: 6\n",
      "* \n",
      "* * * \n",
      "* * * * * \n",
      "* * * * * * * \n",
      "* * * * * * * * * \n"
     ]
    }
   ],
   "source": [
    "row = int(input(\"Enter the number of rows: \"))\n",
    "k = 1\n",
    "for i in range(1,row):\n",
    "    for j in range(1,k+1):\n",
    "        print(\"*\", end=\" \")\n",
    "    k = k + 2\n",
    "    print()"
   ]
  },
  {
   "cell_type": "code",
   "execution_count": 5,
   "metadata": {},
   "outputs": [
    {
     "name": "stdout",
     "output_type": "stream",
     "text": [
      "Enter the number of rows: 5\n",
      "    * \n",
      "   * * \n",
      "  * * * \n",
      " * * * * \n",
      "* * * * * \n"
     ]
    }
   ],
   "source": [
    "row = int(input(\"Enter the number of rows: \"))\n",
    "for i in range(0,row):\n",
    "    for j in range(0,row-i-1):\n",
    "        print(end=\" \")\n",
    "    for j in range(0,i+1):\n",
    "        print(\"*\", end =\" \")\n",
    "    print()"
   ]
  },
  {
   "cell_type": "code",
   "execution_count": 2,
   "metadata": {},
   "outputs": [
    {
     "name": "stdout",
     "output_type": "stream",
     "text": [
      "Enter the number of rows: 5\n",
      "* * * * * \n",
      " * * * * \n",
      "  * * * \n",
      "   * * \n",
      "    * \n"
     ]
    }
   ],
   "source": [
    "row = int(input(\"Enter the number of rows: \"))\n",
    "for i in range(row, 0, -1):\n",
    "    for j in range(0,row-i):\n",
    "        print(end=\" \")\n",
    "    for j in range(0,i):\n",
    "        print(\"*\", end=\" \")\n",
    "    print()"
   ]
  },
  {
   "cell_type": "code",
   "execution_count": 8,
   "metadata": {},
   "outputs": [
    {
     "name": "stdout",
     "output_type": "stream",
     "text": [
      "Enter the number of rows: 5\n",
      "    * \n",
      "   * * \n",
      "  * * * \n",
      " * * * * \n",
      "* * * * * \n",
      " * * * * \n",
      "  * * * \n",
      "   * * \n",
      "    * \n"
     ]
    }
   ],
   "source": [
    "row = int(input(\"Enter the number of rows: \"))\n",
    "for i in range(0,row):\n",
    "    for j in range(0,row-i-1):\n",
    "        print(end=\" \")\n",
    "    for j in range(0,i+1):\n",
    "        print(\"*\", end =\" \")\n",
    "    print()\n",
    "    \n",
    "for i in range(row-1, 0, -1):\n",
    "    for j in range(0,row-i):\n",
    "        print(end=\" \")\n",
    "    for j in range(0,i):\n",
    "        print(\"*\", end=\" \")\n",
    "    print()"
   ]
  },
  {
   "cell_type": "code",
   "execution_count": 11,
   "metadata": {},
   "outputs": [
    {
     "name": "stdout",
     "output_type": "stream",
     "text": [
      "Enter number of raows: 5\n",
      "* * * * * \n",
      "* * * * \n",
      "* * * \n",
      "* * \n",
      "* \n"
     ]
    }
   ],
   "source": [
    "row = int(input(\"Enter number of raows: \"))\n",
    "for i in range(row, 0, -1):\n",
    "    for j in range(0, i):\n",
    "        print(\"*\", end=\" \")\n",
    "    print()"
   ]
  },
  {
   "cell_type": "code",
   "execution_count": 12,
   "metadata": {},
   "outputs": [
    {
     "name": "stdout",
     "output_type": "stream",
     "text": [
      " *** \n",
      "*   *\n",
      "*   *\n",
      "*****\n",
      "*   *\n",
      "*   *\n",
      "*   *\n"
     ]
    }
   ],
   "source": [
    "for row in range(0,7):\n",
    "    for col in range(0,5):\n",
    "        if ((col == 0 or col == 4) and row != 0) or ((row == 0 or row == 3) and (col > 0 and col < 4)):\n",
    "            print(\"*\", end=\"\")\n",
    "        else:\n",
    "            print(end =\" \")\n",
    "    print()"
   ]
  },
  {
   "cell_type": "code",
   "execution_count": 13,
   "metadata": {},
   "outputs": [
    {
     "name": "stdout",
     "output_type": "stream",
     "text": [
      "*****\n",
      "*   *\n",
      "*   *\n",
      "*****\n",
      "*   *\n",
      "*   *\n",
      "*****\n"
     ]
    }
   ],
   "source": [
    "for row in range(0,7):\n",
    "    for col in range(0,5):\n",
    "        if (col == 0 or col == 4) or ((row == 0 or row == 3 or row == 6) and (col > 0 and col < 4)):\n",
    "            print(\"*\", end=\"\")\n",
    "        else:\n",
    "            print(end=\" \")\n",
    "    print()"
   ]
  },
  {
   "cell_type": "code",
   "execution_count": 16,
   "metadata": {},
   "outputs": [
    {
     "name": "stdout",
     "output_type": "stream",
     "text": [
      "**** \n",
      "*   *\n",
      "*   *\n",
      "**** \n",
      "*   *\n",
      "*   *\n",
      "**** \n"
     ]
    }
   ],
   "source": [
    "for row in range(0,7):\n",
    "    for col in range(0,5):\n",
    "        if (col == 0) or (col == 4 and (row != 0 and row != 3 and row != 6)) or ((row == 0 or row == 3 or row == 6) and (col > 0 and col < 4)):\n",
    "            print(\"*\", end=\"\")\n",
    "        else:\n",
    "            print(end=\" \")\n",
    "    print()"
   ]
  },
  {
   "cell_type": "code",
   "execution_count": 6,
   "metadata": {},
   "outputs": [
    {
     "name": "stdout",
     "output_type": "stream",
     "text": [
      "*****\n",
      "*    \n",
      "*    \n",
      "*    \n",
      "*    \n",
      "*    \n",
      "*****\n"
     ]
    }
   ],
   "source": [
    "for row in range(0,7):\n",
    "    for col in range(0,5):\n",
    "        if (col == 0) or ((row == 0 or row == 6) and (col > 0)):\n",
    "            print(\"*\", end=\"\")\n",
    "        else:\n",
    "            print(end =\" \")\n",
    "    print()"
   ]
  },
  {
   "cell_type": "code",
   "execution_count": 8,
   "metadata": {},
   "outputs": [
    {
     "name": "stdout",
     "output_type": "stream",
     "text": [
      " *****\n",
      "*     \n",
      "*     \n",
      "*     \n",
      "*     \n",
      "*     \n",
      " *****\n"
     ]
    }
   ],
   "source": [
    "for row in range(0,7):\n",
    "    for col in range(0,6):\n",
    "        if (col == 0 and (row !=0 and row !=6)) or ((row == 0 or row == 6) and (col > 0)):\n",
    "            print(\"*\", end=\"\")\n",
    "        else:\n",
    "            print(end =\" \")\n",
    "    print()"
   ]
  },
  {
   "cell_type": "code",
   "execution_count": 18,
   "metadata": {},
   "outputs": [
    {
     "name": "stdout",
     "output_type": "stream",
     "text": [
      " *****\n",
      "*     \n",
      "*     \n",
      "*     \n",
      "*     \n",
      "*     \n",
      " *****\n"
     ]
    }
   ],
   "source": [
    "for row in range(0,7):\n",
    "    for col in range(0,6):\n",
    "        if (col == 0 and (row !=0 and row !=6)) or ((row == 0 or row == 6) and (col > 0)):\n",
    "            print(\"*\", end=\"\")\n",
    "        else:\n",
    "            print(end =\" \")\n",
    "    print()"
   ]
  },
  {
   "cell_type": "code",
   "execution_count": 32,
   "metadata": {},
   "outputs": [
    {
     "name": "stdout",
     "output_type": "stream",
     "text": [
      "*****\n",
      "*   *\n",
      "*   *\n",
      "*   *\n",
      "*   *\n",
      "*   *\n",
      "*****\n"
     ]
    }
   ],
   "source": [
    "for row in range(0,7):\n",
    "    for col in range(0,5):\n",
    "        if (col == 0 or col == 4) or ((row == 0 or row == 6) and (col > 0)):\n",
    "            print(\"*\", end=\"\")\n",
    "        else:\n",
    "            print(end =\" \")\n",
    "    print()"
   ]
  },
  {
   "cell_type": "code",
   "execution_count": 35,
   "metadata": {},
   "outputs": [
    {
     "name": "stdout",
     "output_type": "stream",
     "text": [
      "**** \n",
      "*   *\n",
      "*   *\n",
      "*   *\n",
      "*   *\n",
      "*   *\n",
      "**** \n"
     ]
    }
   ],
   "source": [
    "for row in range(0,7):\n",
    "    for col in range(0,5):\n",
    "        if (col == 0) or (col == 4 and (row != 0 and row != 6)) or ((row == 0 or row == 6) and (col > 0 and col < 4)):\n",
    "            print(\"*\", end=\"\")\n",
    "        else:\n",
    "            print(end =\" \")\n",
    "    print()"
   ]
  },
  {
   "cell_type": "code",
   "execution_count": 3,
   "metadata": {},
   "outputs": [
    {
     "name": "stdout",
     "output_type": "stream",
     "text": [
      "*****\n",
      "*    \n",
      "*    \n",
      "*****\n",
      "*    \n",
      "*    \n",
      "*****\n"
     ]
    }
   ],
   "source": [
    "for row in range(0,7):\n",
    "    for col in range(0,5):\n",
    "        if (col == 0) or ((row == 0 or row == 6 or row == 3) and (col > 0)):\n",
    "            print(\"*\", end=\"\")\n",
    "        else:\n",
    "            print(end =\" \")\n",
    "    print()"
   ]
  },
  {
   "cell_type": "code",
   "execution_count": 4,
   "metadata": {},
   "outputs": [
    {
     "name": "stdout",
     "output_type": "stream",
     "text": [
      "*****\n",
      "*    \n",
      "*    \n",
      "*****\n",
      "*    \n",
      "*    \n",
      "*    \n"
     ]
    }
   ],
   "source": [
    "for row in range(0,7):\n",
    "    for col in range(0,5):\n",
    "        if (col == 0) or ((row == 0 or row == 3) and (col > 0)):\n",
    "            print(\"*\", end=\"\")\n",
    "        else:\n",
    "            print(end =\" \")\n",
    "    print()"
   ]
  },
  {
   "cell_type": "code",
   "execution_count": 14,
   "metadata": {},
   "outputs": [
    {
     "name": "stdout",
     "output_type": "stream",
     "text": [
      " **** \n",
      "*     \n",
      "*     \n",
      "*  ***\n",
      "*   * \n",
      "*   * \n",
      " ***  \n"
     ]
    }
   ],
   "source": [
    "for row in range(7):\n",
    "    for col in range(6):\n",
    "        if (col==0 and (row!=0 and row!=6)) or (col==4 and (row!=1 and row!=2 and row!=6)) or ((row==0 or row==6) and(col>0 and col<4)) or(row==3 and(col==3 or col==5)) :\n",
    "            print(\"*\", end=\"\")\n",
    "        else:\n",
    "            print(end=\" \")\n",
    "    print()\n",
    "            "
   ]
  },
  {
   "cell_type": "code",
   "execution_count": 5,
   "metadata": {},
   "outputs": [
    {
     "name": "stdout",
     "output_type": "stream",
     "text": [
      "*   *\n",
      "*   *\n",
      "*   *\n",
      "*****\n",
      "*   *\n",
      "*   *\n",
      "*   *\n"
     ]
    }
   ],
   "source": [
    "for row in range(0,7):\n",
    "    for col in range(0,5):\n",
    "        if (col == 0 or col == 4) or ((row == 3) and (col > 0)):\n",
    "            print(\"*\", end=\"\")\n",
    "        else:\n",
    "            print(end =\" \")\n",
    "    print()"
   ]
  },
  {
   "cell_type": "code",
   "execution_count": 16,
   "metadata": {},
   "outputs": [
    {
     "name": "stdout",
     "output_type": "stream",
     "text": [
      "*****\n",
      "  *  \n",
      "  *  \n",
      "  *  \n",
      "  *  \n",
      "  *  \n",
      "*****\n"
     ]
    }
   ],
   "source": [
    "for row in range(0,7):\n",
    "    for col in range(0,5):\n",
    "        if (col == 2) or ((row == 0 or row == 6) and (col != 2)):\n",
    "            print(\"*\", end=\"\")\n",
    "        else:\n",
    "            print(end =\" \")\n",
    "    print()"
   ]
  },
  {
   "cell_type": "code",
   "execution_count": 31,
   "metadata": {},
   "outputs": [
    {
     "name": "stdout",
     "output_type": "stream",
     "text": [
      "*****\n",
      "  *  \n",
      "  *  \n",
      "  *  \n",
      "  *  \n",
      "  *  \n",
      "**   \n"
     ]
    }
   ],
   "source": [
    "for row in range(0,7):\n",
    "    for col in range(0,5):\n",
    "        if (col == 2 and row!=6) or ((row == 0) or (row == 6 and col < 2 ) and (col != 2)):\n",
    "            print(\"*\", end=\"\")\n",
    "        else:\n",
    "            print(end =\" \")\n",
    "    print()"
   ]
  },
  {
   "cell_type": "code",
   "execution_count": 29,
   "metadata": {},
   "outputs": [
    {
     "name": "stdout",
     "output_type": "stream",
     "text": [
      "*   *\n",
      "*  * \n",
      "* *  \n",
      "**   \n",
      "* *  \n",
      "*  * \n",
      "*   *\n"
     ]
    }
   ],
   "source": [
    "i = 0\n",
    "j = 4\n",
    "\n",
    "for row in range(7):\n",
    "    for col in range(5):\n",
    "        if (col == 0) or (row == col + 2 and col > 1):\n",
    "            print(\"*\", end =\"\")\n",
    "        elif ((row == i and col ==j) and col > 0):\n",
    "            print(\"*\", end = \"\")\n",
    "            i +=1\n",
    "            j -=1\n",
    "        else:\n",
    "            print(end=\" \")\n",
    "    print()"
   ]
  },
  {
   "cell_type": "code",
   "execution_count": 27,
   "metadata": {},
   "outputs": [
    {
     "name": "stdout",
     "output_type": "stream",
     "text": [
      "*     \n",
      "*     \n",
      "*     \n",
      "*     \n",
      "*     \n",
      "*     \n",
      "* * * * * \n"
     ]
    }
   ],
   "source": [
    "for row in range(0,7):\n",
    "    for col in range(0,5):\n",
    "        if (col == 0) or (row == 6 and col != 0):\n",
    "            print(\"*\", end=\" \")\n",
    "        else:\n",
    "            print(end =\" \")\n",
    "    print()"
   ]
  },
  {
   "cell_type": "code",
   "execution_count": 36,
   "metadata": {},
   "outputs": [
    {
     "name": "stdout",
     "output_type": "stream",
     "text": [
      "*     *\n",
      "**   **\n",
      "* * * *\n",
      "*  *  *\n",
      "*     *\n",
      "*     *\n",
      "*     *\n"
     ]
    }
   ],
   "source": [
    "for row in range(0,7):\n",
    "    for col in range(0,7):\n",
    "        if (col == 0 or col == 6) or (col == row and col < 4) or (row == 1 and col == 5) or (row == 2 and col == 4):\n",
    "            print(\"*\", end=\"\")\n",
    "        else:\n",
    "            print(end =\" \")\n",
    "    print()"
   ]
  },
  {
   "cell_type": "code",
   "execution_count": 39,
   "metadata": {},
   "outputs": [
    {
     "name": "stdout",
     "output_type": "stream",
     "text": [
      "*     *\n",
      "**    *\n",
      "* *   *\n",
      "*  *  *\n",
      "*   * *\n",
      "*    **\n",
      "*     *\n"
     ]
    }
   ],
   "source": [
    "for row in range(0,7):\n",
    "    for col in range(0,7):\n",
    "        if (col == 0 or col == 6) or (row == col and (col > 0 and col < 6)):\n",
    "            print(\"*\", end=\"\")\n",
    "        else:\n",
    "            print(end =\" \")\n",
    "    print()"
   ]
  },
  {
   "cell_type": "code",
   "execution_count": 45,
   "metadata": {},
   "outputs": [
    {
     "name": "stdout",
     "output_type": "stream",
     "text": [
      " ***** \n",
      "*     *\n",
      "*     *\n",
      "*     *\n",
      "*     *\n",
      "*     *\n",
      " ***** \n"
     ]
    }
   ],
   "source": [
    "for row in range(0,7):\n",
    "    for col in range(0,7):\n",
    "        if ((col == 0 or col == 6) and (row != 0 and row != 6)) or ((row == 0 or row == 6) and (col != 0 and col != 6) ):\n",
    "            print(\"*\", end=\"\")\n",
    "        else:\n",
    "            print(end =\" \")\n",
    "    print()"
   ]
  },
  {
   "cell_type": "code",
   "execution_count": 57,
   "metadata": {},
   "outputs": [
    {
     "name": "stdout",
     "output_type": "stream",
     "text": [
      " ***** \n",
      "*     *\n",
      "*     *\n",
      "****** \n",
      "*      \n",
      "*      \n",
      "*      \n"
     ]
    }
   ],
   "source": [
    "for row in range(0,7):\n",
    "    for col in range(0,7):\n",
    "        if (col == 0 and row != 0) or ((row==0 or row == 3) and (col > 0 and col < 6)) or (col == 6 and (row>0 and row<3 )):\n",
    "            print(\"*\", end=\"\")\n",
    "        else:\n",
    "            print(end =\" \")\n",
    "    print()"
   ]
  },
  {
   "cell_type": "code",
   "execution_count": 71,
   "metadata": {},
   "outputs": [
    {
     "name": "stdout",
     "output_type": "stream",
     "text": [
      " *****  \n",
      "*     * \n",
      "*     * \n",
      "*     * \n",
      "*   * * \n",
      "*    ** \n",
      " ****** \n",
      "       *\n"
     ]
    }
   ],
   "source": [
    "for row in range(0,8):\n",
    "    for col in range(0,8):\n",
    "        if ((col == 0 or col == 6) and (row != 0 and row != 6) and row<6) or ((row == 0 or row == 6) and (col != 0 and col != 6)and col<7 )or (row==col and col > 3):\n",
    "            print(\"*\", end=\"\")\n",
    "        else:\n",
    "            print(end =\" \")\n",
    "    print()"
   ]
  },
  {
   "cell_type": "code",
   "execution_count": 79,
   "metadata": {},
   "outputs": [
    {
     "name": "stdout",
     "output_type": "stream",
     "text": [
      " ***** \n",
      "*     *\n",
      "*     *\n",
      "****** \n",
      "*     *\n",
      "*     *\n",
      "*     *\n"
     ]
    }
   ],
   "source": [
    "for row in range(0,7):\n",
    "    for col in range(0,7):\n",
    "        if (col == 0 and row != 0) or ((row==0 or row == 3) and (col > 0 and col < 6)) or (col == 6 and (row>0 and row!=3)):\n",
    "            print(\"*\", end=\"\")\n",
    "        else:\n",
    "            print(end =\" \")\n",
    "    print()"
   ]
  },
  {
   "cell_type": "code",
   "execution_count": 83,
   "metadata": {},
   "outputs": [
    {
     "name": "stdout",
     "output_type": "stream",
     "text": [
      " *** \n",
      "*    \n",
      "*    \n",
      " *** \n",
      "    *\n",
      "    *\n",
      " *** \n"
     ]
    }
   ],
   "source": [
    "for row in range(0,7):\n",
    "    for col in range(0,5):\n",
    "        if (col == 0 and (row>0 and row <3)) or ((row==0 or row==3 or row==6) and (col<4 and col>0)) or (col==4 and (row<6 and row>3)):\n",
    "            print(\"*\",end=\"\")\n",
    "        else:\n",
    "            print(end=\" \")\n",
    "    print()"
   ]
  },
  {
   "cell_type": "code",
   "execution_count": null,
   "metadata": {},
   "outputs": [],
   "source": []
  }
 ],
 "metadata": {
  "kernelspec": {
   "display_name": "Python 3",
   "language": "python",
   "name": "python3"
  },
  "language_info": {
   "codemirror_mode": {
    "name": "ipython",
    "version": 3
   },
   "file_extension": ".py",
   "mimetype": "text/x-python",
   "name": "python",
   "nbconvert_exporter": "python",
   "pygments_lexer": "ipython3",
   "version": "3.7.6"
  }
 },
 "nbformat": 4,
 "nbformat_minor": 4
}
