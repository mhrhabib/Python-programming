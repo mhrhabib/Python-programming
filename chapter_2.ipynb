{
 "cells": [
  {
   "cell_type": "markdown",
   "metadata": {},
   "source": [
    "# concatenation"
   ]
  },
  {
   "cell_type": "code",
   "execution_count": 18,
   "metadata": {},
   "outputs": [
    {
     "name": "stdout",
     "output_type": "stream",
     "text": [
      "Habibur Rahman\n"
     ]
    }
   ],
   "source": [
    "f_name = \"Habibur\"\n",
    "l_name = \"Rahman\"\n",
    "full_name = f_name + \" \" + l_name\n",
    "print(full_name)"
   ]
  },
  {
   "cell_type": "code",
   "execution_count": 20,
   "metadata": {},
   "outputs": [
    {
     "name": "stdout",
     "output_type": "stream",
     "text": [
      "Habibur Rahman\n",
      "3\n"
     ]
    }
   ],
   "source": [
    "full_name = f_name + \" \" + l_name + \"\\n\"\n",
    "print(full_name + str(3))"
   ]
  },
  {
   "cell_type": "code",
   "execution_count": 16,
   "metadata": {},
   "outputs": [
    {
     "name": "stdout",
     "output_type": "stream",
     "text": [
      "Habibur Rahman\n",
      "Habibur Rahman\n",
      "Habibur Rahman\n",
      "\n"
     ]
    }
   ],
   "source": [
    "print(full_name * 3)"
   ]
  },
  {
   "cell_type": "code",
   "execution_count": 22,
   "metadata": {},
   "outputs": [
    {
     "name": "stdout",
     "output_type": "stream",
     "text": [
      "Habibur Rahman\n",
      "3\n"
     ]
    }
   ],
   "source": [
    "print(full_name + \"3\")"
   ]
  },
  {
   "cell_type": "markdown",
   "metadata": {},
   "source": [
    "# user input\n"
   ]
  },
  {
   "cell_type": "code",
   "execution_count": 25,
   "metadata": {},
   "outputs": [
    {
     "name": "stdout",
     "output_type": "stream",
     "text": [
      "what is your Name Habib\n",
      "My name is Habib\n"
     ]
    }
   ],
   "source": [
    "name = input(\"what is your Name \")\n",
    "\n",
    "print(\"My name is \" + name)"
   ]
  },
  {
   "cell_type": "code",
   "execution_count": 26,
   "metadata": {},
   "outputs": [
    {
     "name": "stdout",
     "output_type": "stream",
     "text": [
      "what is your age? 26\n",
      "Your age is 26\n"
     ]
    }
   ],
   "source": [
    "# input type is always a string\n",
    "age = input(\"what is your age? \")\n",
    "print(\"Your age is \" + age)"
   ]
  },
  {
   "cell_type": "markdown",
   "metadata": {},
   "source": [
    "# int () function\n"
   ]
  },
  {
   "cell_type": "code",
   "execution_count": 2,
   "metadata": {},
   "outputs": [
    {
     "name": "stdout",
     "output_type": "stream",
     "text": [
      "Enter first number 44\n",
      "Enter second number 44\n",
      "The total is 88\n"
     ]
    }
   ],
   "source": [
    "number1 = int(input(\"Enter first number \"))\n",
    "number2 = int(input(\"Enter second number \"))\n",
    "total = number1 + number2 \n",
    "print(\"The total is \" + str(total))"
   ]
  },
  {
   "cell_type": "code",
   "execution_count": 30,
   "metadata": {},
   "outputs": [
    {
     "name": "stdout",
     "output_type": "stream",
     "text": [
      "444.0\n"
     ]
    }
   ],
   "source": [
    "first = str(4)\n",
    "second = float(\"44\")\n",
    "third = int('33')\n",
    "print(first + str(second))"
   ]
  },
  {
   "cell_type": "code",
   "execution_count": 31,
   "metadata": {},
   "outputs": [
    {
     "name": "stdout",
     "output_type": "stream",
     "text": [
      "77.0\n"
     ]
    }
   ],
   "source": [
    "print(second + third)"
   ]
  },
  {
   "cell_type": "markdown",
   "metadata": {},
   "source": [
    "# multiple variable assignment\n"
   ]
  },
  {
   "cell_type": "code",
   "execution_count": 33,
   "metadata": {},
   "outputs": [
    {
     "name": "stdout",
     "output_type": "stream",
     "text": [
      "I am Habib My age is 26\n"
     ]
    }
   ],
   "source": [
    "name, age = \"Habib\", \"26\"\n",
    "print(\"I am \" + name +\" \"+ \"My age is \" + age)"
   ]
  },
  {
   "cell_type": "code",
   "execution_count": 34,
   "metadata": {},
   "outputs": [
    {
     "name": "stdout",
     "output_type": "stream",
     "text": [
      "3\n"
     ]
    }
   ],
   "source": [
    "x = y = z = 1\n",
    "sum = x + y + z\n",
    "print(sum)"
   ]
  },
  {
   "cell_type": "markdown",
   "metadata": {},
   "source": [
    "# two or more input in one line"
   ]
  },
  {
   "cell_type": "code",
   "execution_count": 35,
   "metadata": {},
   "outputs": [
    {
     "name": "stdout",
     "output_type": "stream",
     "text": [
      "Enter your name and age habib,26\n",
      "habib\n",
      "26\n"
     ]
    }
   ],
   "source": [
    "name, age = input( \"Enter your name and age \").split(\",\")\n",
    "print( name )\n",
    "print( age )"
   ]
  },
  {
   "cell_type": "code",
   "execution_count": 4,
   "metadata": {},
   "outputs": [
    {
     "name": "stdout",
     "output_type": "stream",
     "text": [
      "Enter your name and age habib 23\n",
      "habib\n",
      "23\n"
     ]
    }
   ],
   "source": [
    "name, age = input( \"Enter your name and age \").split()\n",
    "print( name )\n",
    "print( age )"
   ]
  },
  {
   "cell_type": "markdown",
   "metadata": {},
   "source": [
    "# string formating\n"
   ]
  },
  {
   "cell_type": "code",
   "execution_count": 6,
   "metadata": {},
   "outputs": [
    {
     "name": "stdout",
     "output_type": "stream",
     "text": [
      "My name is Habib  and My age is 24\n"
     ]
    }
   ],
   "source": [
    "name = \"Habib\"\n",
    "age = 24\n",
    "print (\"My name is \" + name + \" \" + \" and My age is \" + str(age))"
   ]
  },
  {
   "cell_type": "code",
   "execution_count": 7,
   "metadata": {},
   "outputs": [
    {
     "name": "stdout",
     "output_type": "stream",
     "text": [
      "My name is Habib and My age is 24\n"
     ]
    }
   ],
   "source": [
    "print(\"My name is {} and My age is {}\".format(name, age))"
   ]
  },
  {
   "cell_type": "code",
   "execution_count": 9,
   "metadata": {},
   "outputs": [
    {
     "name": "stdout",
     "output_type": "stream",
     "text": [
      "My name is Habib and My age is 24\n"
     ]
    }
   ],
   "source": [
    "print(f\"My name is {name} and My age is {age}\")"
   ]
  },
  {
   "cell_type": "markdown",
   "metadata": {},
   "source": [
    "# Exercise"
   ]
  },
  {
   "cell_type": "markdown",
   "metadata": {},
   "source": [
    "Ask user to input 3 numbers and you have to print average of three numbers using string fomatting...."
   ]
  },
  {
   "cell_type": "code",
   "execution_count": 18,
   "metadata": {},
   "outputs": [
    {
     "name": "stdout",
     "output_type": "stream",
     "text": [
      "Enter the numbers 2,3,4\n",
      "3.0\n"
     ]
    }
   ],
   "source": [
    "num1, num2, num3 = input(\"Enter the numbers \").split(\",\")\n",
    "sum = int(num1) + int(num2) + int(num3) \n",
    "average = int(sum) / 3\n",
    "print (str(average))"
   ]
  },
  {
   "cell_type": "code",
   "execution_count": 21,
   "metadata": {},
   "outputs": [
    {
     "name": "stdout",
     "output_type": "stream",
     "text": [
      "average of three numbers : 3.0\n"
     ]
    }
   ],
   "source": [
    "print(f\"average of three numbers : {(int(num1) + int(num2) + int(num3)) / 3 }\")"
   ]
  },
  {
   "cell_type": "markdown",
   "metadata": {},
   "source": [
    "# string indexing "
   ]
  },
  {
   "cell_type": "code",
   "execution_count": 4,
   "metadata": {},
   "outputs": [
    {
     "name": "stdout",
     "output_type": "stream",
     "text": [
      "n\n",
      "n\n"
     ]
    }
   ],
   "source": [
    "language = \"python\"\n",
    "\n",
    "print(language[5])\n",
    "print(language[-1])"
   ]
  },
  {
   "cell_type": "markdown",
   "metadata": {},
   "source": [
    "# string slicing "
   ]
  },
  {
   "cell_type": "code",
   "execution_count": 4,
   "metadata": {},
   "outputs": [
    {
     "name": "stdout",
     "output_type": "stream",
     "text": [
      "python\n"
     ]
    }
   ],
   "source": [
    "lang = \"python\"\n",
    "# syntex = [strart argument : stop arugument - 1]\n",
    "\n",
    "print(lang[:])"
   ]
  },
  {
   "cell_type": "code",
   "execution_count": 6,
   "metadata": {},
   "outputs": [
    {
     "name": "stdout",
     "output_type": "stream",
     "text": [
      "hon\n"
     ]
    }
   ],
   "source": [
    "print(lang[3:6])"
   ]
  },
  {
   "cell_type": "code",
   "execution_count": 7,
   "metadata": {},
   "outputs": [
    {
     "name": "stdout",
     "output_type": "stream",
     "text": [
      "hon\n"
     ]
    }
   ],
   "source": [
    "print(lang[-3:6])"
   ]
  },
  {
   "cell_type": "code",
   "execution_count": 8,
   "metadata": {},
   "outputs": [
    {
     "name": "stdout",
     "output_type": "stream",
     "text": [
      "n\n"
     ]
    }
   ],
   "source": [
    "print(lang[-1:])"
   ]
  },
  {
   "cell_type": "code",
   "execution_count": 9,
   "metadata": {},
   "outputs": [
    {
     "name": "stdout",
     "output_type": "stream",
     "text": [
      "pytho\n"
     ]
    }
   ],
   "source": [
    "print(lang[:-1])"
   ]
  },
  {
   "cell_type": "code",
   "execution_count": 11,
   "metadata": {},
   "outputs": [
    {
     "name": "stdout",
     "output_type": "stream",
     "text": [
      "pytho\n"
     ]
    }
   ],
   "source": [
    "print(lang[:5])"
   ]
  },
  {
   "cell_type": "code",
   "execution_count": 5,
   "metadata": {},
   "outputs": [
    {
     "name": "stdout",
     "output_type": "stream",
     "text": [
      "thon\n"
     ]
    }
   ],
   "source": [
    "print(lang[2:6])"
   ]
  },
  {
   "cell_type": "code",
   "execution_count": 6,
   "metadata": {},
   "outputs": [
    {
     "name": "stdout",
     "output_type": "stream",
     "text": [
      "python\n"
     ]
    }
   ],
   "source": [
    "print(lang[::])"
   ]
  },
  {
   "cell_type": "markdown",
   "metadata": {},
   "source": [
    "# step argument"
   ]
  },
  {
   "cell_type": "code",
   "execution_count": 14,
   "metadata": {},
   "outputs": [
    {
     "name": "stdout",
     "output_type": "stream",
     "text": [
      "Habibur\n"
     ]
    }
   ],
   "source": [
    "name = \"Habibur\"\n",
    "#syntex = [start argument : stop argunmet -1 : step]\n",
    "\n",
    "print(name[::1])"
   ]
  },
  {
   "cell_type": "code",
   "execution_count": 15,
   "metadata": {},
   "outputs": [
    {
     "name": "stdout",
     "output_type": "stream",
     "text": [
      "rubibaH\n"
     ]
    }
   ],
   "source": [
    "print(name[::-1])"
   ]
  },
  {
   "cell_type": "code",
   "execution_count": 16,
   "metadata": {},
   "outputs": [
    {
     "name": "stdout",
     "output_type": "stream",
     "text": [
      "Hbbr\n"
     ]
    }
   ],
   "source": [
    "print(name[::2])"
   ]
  },
  {
   "cell_type": "code",
   "execution_count": 17,
   "metadata": {},
   "outputs": [
    {
     "name": "stdout",
     "output_type": "stream",
     "text": [
      "b\n"
     ]
    }
   ],
   "source": [
    "print(name[2:5:3])"
   ]
  },
  {
   "cell_type": "code",
   "execution_count": 18,
   "metadata": {},
   "outputs": [
    {
     "name": "stdout",
     "output_type": "stream",
     "text": [
      "bu\n"
     ]
    }
   ],
   "source": [
    "print(name[2:6:3])"
   ]
  },
  {
   "cell_type": "markdown",
   "metadata": {},
   "source": [
    "# Exercise\n",
    "ask user name and print the user name in reverse order"
   ]
  },
  {
   "cell_type": "code",
   "execution_count": 20,
   "metadata": {},
   "outputs": [
    {
     "name": "stdout",
     "output_type": "stream",
     "text": [
      "Give us your Name: Habib\n",
      "bibaH\n",
      "your name in reverse order bibaH\n"
     ]
    }
   ],
   "source": [
    "userName = input(\"Give us your Name: \")\n",
    "print(userName[::-1])\n",
    "print(f\"your name in reverse order {userName[::-1]}\")"
   ]
  },
  {
   "cell_type": "markdown",
   "metadata": {},
   "source": [
    "# String Methods"
   ]
  },
  {
   "cell_type": "code",
   "execution_count": 3,
   "metadata": {},
   "outputs": [
    {
     "name": "stdout",
     "output_type": "stream",
     "text": [
      "14\n"
     ]
    }
   ],
   "source": [
    "myName= \"HabibuR raHmaN\"\n",
    "#len function\n",
    "print(len(myName))"
   ]
  },
  {
   "cell_type": "code",
   "execution_count": 23,
   "metadata": {},
   "outputs": [
    {
     "name": "stdout",
     "output_type": "stream",
     "text": [
      "habibur rahman\n"
     ]
    }
   ],
   "source": [
    "# methods\n",
    "print(myName.lower())"
   ]
  },
  {
   "cell_type": "code",
   "execution_count": 24,
   "metadata": {},
   "outputs": [
    {
     "name": "stdout",
     "output_type": "stream",
     "text": [
      "HABIBUR RAHMAN\n"
     ]
    }
   ],
   "source": [
    "print(myName.upper())"
   ]
  },
  {
   "cell_type": "code",
   "execution_count": 25,
   "metadata": {},
   "outputs": [
    {
     "name": "stdout",
     "output_type": "stream",
     "text": [
      "Habibur Rahman\n"
     ]
    }
   ],
   "source": [
    "print(myName.title())"
   ]
  },
  {
   "cell_type": "code",
   "execution_count": 27,
   "metadata": {},
   "outputs": [
    {
     "name": "stdout",
     "output_type": "stream",
     "text": [
      "3\n"
     ]
    }
   ],
   "source": [
    "print(myName.count('a'))"
   ]
  },
  {
   "cell_type": "code",
   "execution_count": 28,
   "metadata": {},
   "outputs": [
    {
     "name": "stdout",
     "output_type": "stream",
     "text": [
      "input your name here: Habibur,b\n",
      "7\n",
      "2\n"
     ]
    }
   ],
   "source": [
    "name1, name2 = input(\"input your name here: \").split(\",\")\n",
    "print(len(name1))\n",
    "print(name1.count(name2))"
   ]
  },
  {
   "cell_type": "code",
   "execution_count": 29,
   "metadata": {},
   "outputs": [
    {
     "name": "stdout",
     "output_type": "stream",
     "text": [
      "2\n"
     ]
    }
   ],
   "source": [
    "print(name1.upper().count(name2.upper()))"
   ]
  },
  {
   "cell_type": "markdown",
   "metadata": {},
   "source": [
    "# Strip method\n",
    "left space = lstrip()...\n",
    "right space = rstrip()...\n",
    "all spaces( left or right) = strip()...\n",
    "space on the middle = replace(\" \", \"\")\n"
   ]
  },
  {
   "cell_type": "code",
   "execution_count": 31,
   "metadata": {},
   "outputs": [
    {
     "name": "stdout",
     "output_type": "stream",
     "text": [
      "   habib   .......\n"
     ]
    }
   ],
   "source": [
    "word = \"   habib   \"\n",
    "dots = \".......\"\n",
    "print(word + dots)"
   ]
  },
  {
   "cell_type": "code",
   "execution_count": 34,
   "metadata": {},
   "outputs": [
    {
     "name": "stdout",
     "output_type": "stream",
     "text": [
      "habib   .......\n"
     ]
    }
   ],
   "source": [
    "#lstrip method\n",
    "print(word.lstrip() + dots)"
   ]
  },
  {
   "cell_type": "code",
   "execution_count": 35,
   "metadata": {},
   "outputs": [
    {
     "name": "stdout",
     "output_type": "stream",
     "text": [
      "   habib.......\n"
     ]
    }
   ],
   "source": [
    "#rstrip method\n",
    "print(word.rstrip() + dots)"
   ]
  },
  {
   "cell_type": "code",
   "execution_count": 36,
   "metadata": {},
   "outputs": [
    {
     "name": "stdout",
     "output_type": "stream",
     "text": [
      "habib.......\n"
     ]
    }
   ],
   "source": [
    "#strip method\n",
    "print(word.strip() + dots)"
   ]
  },
  {
   "cell_type": "code",
   "execution_count": 37,
   "metadata": {},
   "outputs": [
    {
     "name": "stdout",
     "output_type": "stream",
     "text": [
      "habi   b\n"
     ]
    }
   ],
   "source": [
    "newWord = \"habi   b\"\n",
    "print(newWord)"
   ]
  },
  {
   "cell_type": "code",
   "execution_count": 38,
   "metadata": {},
   "outputs": [
    {
     "name": "stdout",
     "output_type": "stream",
     "text": [
      "habib\n"
     ]
    }
   ],
   "source": [
    "print(newWord.replace(\" \", \"\"))"
   ]
  },
  {
   "cell_type": "markdown",
   "metadata": {},
   "source": [
    "# replace and find method"
   ]
  },
  {
   "cell_type": "code",
   "execution_count": 39,
   "metadata": {},
   "outputs": [
    {
     "name": "stdout",
     "output_type": "stream",
     "text": [
      "she_is_beautiful_and_she_is_a_good_dancer!\n"
     ]
    }
   ],
   "source": [
    "string = \"she is beautiful and she is a good dancer!\"\n",
    "# REPLACE METHOD \n",
    "print(string.replace(\" \",\"_\"))"
   ]
  },
  {
   "cell_type": "code",
   "execution_count": 40,
   "metadata": {},
   "outputs": [
    {
     "name": "stdout",
     "output_type": "stream",
     "text": [
      "she was beautiful and she was a good dancer!\n"
     ]
    }
   ],
   "source": [
    "print(string.replace(\"is\", \"was\"))"
   ]
  },
  {
   "cell_type": "code",
   "execution_count": 41,
   "metadata": {},
   "outputs": [
    {
     "name": "stdout",
     "output_type": "stream",
     "text": [
      "4\n"
     ]
    }
   ],
   "source": [
    "#find method\n",
    "print(string.find(\"is\"))"
   ]
  },
  {
   "cell_type": "code",
   "execution_count": 43,
   "metadata": {},
   "outputs": [
    {
     "name": "stdout",
     "output_type": "stream",
     "text": [
      "25\n"
     ]
    }
   ],
   "source": [
    "is_pos = string.find(\"is\")\n",
    "print(string.find(\"is\", is_pos + 1))"
   ]
  },
  {
   "cell_type": "markdown",
   "metadata": {},
   "source": [
    "# center method"
   ]
  },
  {
   "cell_type": "code",
   "execution_count": 44,
   "metadata": {},
   "outputs": [
    {
     "name": "stdout",
     "output_type": "stream",
     "text": [
      "*Habib*\n"
     ]
    }
   ],
   "source": [
    "name3 = \"Habib\"\n",
    "print(name3.center(7, \"*\"))"
   ]
  },
  {
   "cell_type": "code",
   "execution_count": 47,
   "metadata": {},
   "outputs": [
    {
     "name": "stdout",
     "output_type": "stream",
     "text": [
      "**Habib**\n"
     ]
    }
   ],
   "source": [
    "print(name3.center(len(name3)+4, \"*\"))"
   ]
  },
  {
   "cell_type": "code",
   "execution_count": 48,
   "metadata": {},
   "outputs": [
    {
     "name": "stdout",
     "output_type": "stream",
     "text": [
      "5\n"
     ]
    }
   ],
   "source": [
    "print(len(name3))"
   ]
  },
  {
   "cell_type": "markdown",
   "metadata": {},
   "source": [
    "# assignment operator"
   ]
  },
  {
   "cell_type": "code",
   "execution_count": 49,
   "metadata": {},
   "outputs": [
    {
     "name": "stdout",
     "output_type": "stream",
     "text": [
      "Habibur\n"
     ]
    }
   ],
   "source": [
    "# += \n",
    "name = \"Habib\"\n",
    "name = name + \"ur\"\n",
    "print(name)"
   ]
  },
  {
   "cell_type": "code",
   "execution_count": 54,
   "metadata": {},
   "outputs": [
    {
     "name": "stdout",
     "output_type": "stream",
     "text": [
      "HabiburUrrUrrUrrUrrUrr\n"
     ]
    }
   ],
   "source": [
    "name += \"Urr\"\n",
    "print(name)"
   ]
  },
  {
   "cell_type": "code",
   "execution_count": 55,
   "metadata": {},
   "outputs": [
    {
     "name": "stdout",
     "output_type": "stream",
     "text": [
      "24\n"
     ]
    }
   ],
   "source": [
    "age = 27\n",
    "age -= 3\n",
    "print (age)"
   ]
  },
  {
   "cell_type": "code",
   "execution_count": 4,
   "metadata": {},
   "outputs": [
    {
     "name": "stdout",
     "output_type": "stream",
     "text": [
      "Guess a number between 1 and 100: 77\n",
      "Too High\n",
      "Guess Again: 9\n",
      "Too Low\n",
      "Guess Again: 22\n",
      "Too Low\n",
      "Guess Again: 55\n",
      "Too High\n",
      "Guess Again: 44\n",
      "Too High\n",
      "Guess Again: 33\n",
      "Too Low\n",
      "Guess Again: 35\n",
      "Too Low\n",
      "Guess Again: 39\n",
      "Too High\n",
      "Guess Again: 36\n",
      "Too Low\n",
      "Guess Again: 37\n",
      "you won, you have guessed it 10 times\n"
     ]
    }
   ],
   "source": [
    "import random\n",
    "winning_number = random.randint(1,100)\n",
    "guess_count = 1;\n",
    "guess_number = input(\"Guess a number between 1 and 100: \")\n",
    "guess_number = int(guess_number)\n",
    "game_over = False \n",
    "while not game_over:\n",
    "    if guess_number == winning_number:\n",
    "        print(f\"you won, you have guessed it {guess_count} times\")\n",
    "        game_over = True\n",
    "    else :\n",
    "        if guess_number > winning_number:\n",
    "            print(\"Too High\")\n",
    "            guess_count += 1\n",
    "            guess_number = int(input(\"Guess Again: \"))\n",
    "        else:\n",
    "            print(\"Too Low\")\n",
    "            guess_count += 1\n",
    "            guess_number = int(input(\"Guess Again: \"))\n",
    "    "
   ]
  },
  {
   "cell_type": "code",
   "execution_count": 7,
   "metadata": {},
   "outputs": [
    {
     "name": "stdout",
     "output_type": "stream",
     "text": [
      "Enter a number between 1 and 100 : 55\n",
      "Too low\n",
      "Guess again:66\n",
      "Too High\n",
      "Guess again:58\n",
      "Too low\n",
      "Guess again:60\n",
      "Too low\n",
      "Guess again:64\n",
      "Too low\n",
      "Guess again:65\n",
      "You win and you guess the number 6 Times\n"
     ]
    }
   ],
   "source": [
    "import random \n",
    "wNumber = random. randint(1,100)\n",
    "n = int(input(\"Enter a number between 1 and 100 : \"))\n",
    "for i in range(1,100):\n",
    "    if n == wNumber:\n",
    "        print(f\"You win and you guess the number {i} Times\")\n",
    "        break\n",
    "    else:\n",
    "        if n > wNumber:\n",
    "            print(\"Too High\")\n",
    "        else:\n",
    "            print(\"Too low\")\n",
    "        n = int(input(\"Guess again:\"))"
   ]
  }
 ],
 "metadata": {
  "kernelspec": {
   "display_name": "Python 3",
   "language": "python",
   "name": "python3"
  },
  "language_info": {
   "codemirror_mode": {
    "name": "ipython",
    "version": 3
   },
   "file_extension": ".py",
   "mimetype": "text/x-python",
   "name": "python",
   "nbconvert_exporter": "python",
   "pygments_lexer": "ipython3",
   "version": "3.7.6"
  }
 },
 "nbformat": 4,
 "nbformat_minor": 4
}
