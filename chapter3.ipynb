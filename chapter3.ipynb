{
 "cells": [
  {
   "cell_type": "markdown",
   "metadata": {},
   "source": [
    "# if and else statement "
   ]
  },
  {
   "cell_type": "code",
   "execution_count": 2,
   "metadata": {},
   "outputs": [
    {
     "name": "stdout",
     "output_type": "stream",
     "text": [
      "Enter your age: 15\n",
      "Not applicable!\n"
     ]
    }
   ],
   "source": [
    "age = input(\"Enter your age: \")\n",
    "age = int(age)\n",
    "if(age >= 18):\n",
    "    print(\"your are good to go\")\n",
    "else:\n",
    "    print(\"Not applicable!\")"
   ]
  },
  {
   "cell_type": "markdown",
   "metadata": {},
   "source": [
    "# pass statement"
   ]
  },
  {
   "cell_type": "code",
   "execution_count": 5,
   "metadata": {},
   "outputs": [],
   "source": [
    "number = 34\n",
    "if number > 34:\n",
    "    pass"
   ]
  },
  {
   "cell_type": "code",
   "execution_count": 9,
   "metadata": {},
   "outputs": [
    {
     "name": "stdout",
     "output_type": "stream",
     "text": [
      "your number is: 34\n",
      "You win!!!\n"
     ]
    }
   ],
   "source": [
    "winning_number = 34\n",
    "guest_number = input(\"your number is: \")\n",
    "guest_number = int(guest_number)\n",
    "if guest_number == winning_number:\n",
    "    print(\"You win!!!\")\n",
    "elif guest_number < winning_number:\n",
    "    print(\"Your number is low.\")\n",
    "else:\n",
    "    print(\"Your number is high.\")"
   ]
  },
  {
   "cell_type": "markdown",
   "metadata": {},
   "source": [
    "# Exercise"
   ]
  },
  {
   "cell_type": "code",
   "execution_count": 10,
   "metadata": {},
   "outputs": [],
   "source": [
    "#watch onward\n",
    "#ask user's name and age\n",
    "#if user's name start with (a or A) and age is above 10\n",
    "#print ('you can watch the movie')\n",
    "#else print \"sorry you can't watch the movie\""
   ]
  },
  {
   "cell_type": "code",
   "execution_count": 14,
   "metadata": {},
   "outputs": [
    {
     "name": "stdout",
     "output_type": "stream",
     "text": [
      "input your name and agearhum 34\n",
      "you can watch the movie.\n"
     ]
    }
   ],
   "source": [
    "name, age = input(\"input your name and age\").split(' ')\n",
    "age = int(age)\n",
    "# name = name.lower()\n",
    "# if name[0]== 'a' and age > 10 :\n",
    "if age >= 10 and (name[0]=='a' or name[0]=='A'):\n",
    "    print(\"you can watch the movie.\")\n",
    "else:\n",
    "    print(\"you can't watch the movie..\")"
   ]
  },
  {
   "cell_type": "code",
   "execution_count": 1,
   "metadata": {},
   "outputs": [],
   "source": [
    "#show ticket pricing\n",
    "# 1 to 3 (free)\n",
    "# 4 to 10 (150)\n",
    "# 11 to 60 (250)\n",
    "# above 60 (100)\n"
   ]
  },
  {
   "cell_type": "code",
   "execution_count": 4,
   "metadata": {},
   "outputs": [
    {
     "name": "stdout",
     "output_type": "stream",
     "text": [
      " Enter your age: 65\n",
      "price is 100\n"
     ]
    }
   ],
   "source": [
    "age = input(\" Enter your age: \")\n",
    "age = int(age)\n",
    "\n",
    "if age == 0 or age < 0 :\n",
    "    print(\"You can't purces\")\n",
    "elif age > 0 and age <= 3 :\n",
    "    print(\"price is Free\")\n",
    "elif age >= 4 and age <= 10 :\n",
    "    print(\"price is 150\")\n",
    "elif age >= 11 and age <= 60 :\n",
    "    print (\"price is 250\")\n",
    "else :\n",
    "    print (\"price is 100\")"
   ]
  },
  {
   "cell_type": "markdown",
   "metadata": {},
   "source": [
    "# if with in \n",
    "# in keyword"
   ]
  },
  {
   "cell_type": "code",
   "execution_count": 10,
   "metadata": {},
   "outputs": [
    {
     "name": "stdout",
     "output_type": "stream",
     "text": [
      " the character is present in string\n"
     ]
    }
   ],
   "source": [
    "string = \"Circumstance\"\n",
    "\n",
    "# if \"c\" in \"Circumstance\":\n",
    "if \"C\" in string:\n",
    "    print( \" the character is present in string\")\n",
    "else:\n",
    "    print(\"not present\")"
   ]
  },
  {
   "cell_type": "code",
   "execution_count": 12,
   "metadata": {},
   "outputs": [
    {
     "name": "stdout",
     "output_type": "stream",
     "text": [
      "Enter your name: \n",
      "You didn't enter anything\n"
     ]
    }
   ],
   "source": [
    "#check empty or not \n",
    "name = input(\"Enter your name: \")\n",
    "\n",
    "if name: #true if the variable stores something\n",
    "    print(f'Your name is {name}')\n",
    "else:\n",
    "    print(\"You didn't enter anything\")"
   ]
  },
  {
   "cell_type": "markdown",
   "metadata": {},
   "source": [
    "# while loop"
   ]
  },
  {
   "cell_type": "code",
   "execution_count": 13,
   "metadata": {},
   "outputs": [
    {
     "name": "stdout",
     "output_type": "stream",
     "text": [
      "hello world 1\n",
      "hello world 2\n",
      "hello world 3\n",
      "hello world 4\n",
      "hello world 5\n",
      "hello world 6\n",
      "hello world 7\n",
      "hello world 8\n",
      "hello world 9\n",
      "hello world 10\n"
     ]
    }
   ],
   "source": [
    "#print hello world 10 times\n",
    "i = 1\n",
    "while i <= 10:\n",
    "    print(f\"hello world {i}\")\n",
    "    i = i + 1"
   ]
  },
  {
   "cell_type": "code",
   "execution_count": 17,
   "metadata": {},
   "outputs": [
    {
     "name": "stdout",
     "output_type": "stream",
     "text": [
      "1\n",
      "3\n",
      "6\n",
      "10\n",
      "15\n",
      "21\n",
      "28\n",
      "36\n",
      "45\n",
      "55\n"
     ]
    }
   ],
   "source": [
    "# sum : 1 to 10 (or any number)\n",
    "total = 0\n",
    "i = 1\n",
    "while i <= 10:\n",
    "    total += i\n",
    "    i += 1\n",
    "    print(total)\n",
    "#print(total)"
   ]
  },
  {
   "cell_type": "code",
   "execution_count": 21,
   "metadata": {},
   "outputs": [
    {
     "name": "stdout",
     "output_type": "stream",
     "text": [
      "input a number: 25\n",
      "325\n"
     ]
    }
   ],
   "source": [
    "#take a number from a user and sum it \n",
    "sum = 0\n",
    "n = input(\"input a number: \")\n",
    "n = int(n)\n",
    "i = 0;\n",
    "while i <= n:\n",
    "    sum = sum + i\n",
    "    i += 1\n",
    "print(sum)"
   ]
  },
  {
   "cell_type": "code",
   "execution_count": 22,
   "metadata": {},
   "outputs": [
    {
     "name": "stdout",
     "output_type": "stream",
     "text": [
      "Enter your number : 123\n",
      "6\n"
     ]
    }
   ],
   "source": [
    "# ask user to input a number containing more than one digit\n",
    "#calculte the sum of that number and print\n",
    "\n",
    "number = input(\"Enter your number : \")\n",
    "\n",
    "total = 0\n",
    "i = 0\n",
    "while i < len(number):\n",
    "    total = total + int(number[i])\n",
    "    i += 1\n",
    "print(total)"
   ]
  },
  {
   "cell_type": "code",
   "execution_count": 26,
   "metadata": {},
   "outputs": [
    {
     "name": "stdout",
     "output_type": "stream",
     "text": [
      "Enter your name: habibur rahman\n",
      "h : 2\n",
      "a : 3\n",
      "b : 2\n",
      "i : 1\n",
      "u : 1\n",
      "r : 2\n",
      "  : 1\n",
      "m : 1\n",
      "n : 1\n"
     ]
    }
   ],
   "source": [
    "#ask a user for name \n",
    "# example - Habibur rahman \n",
    "#print count of each words\n",
    "\n",
    "name = input(\"Enter your name: \")\n",
    "i = 0\n",
    "temp_var = \"\"\n",
    "while i < len(name):\n",
    "    if name[i] not in temp_var:\n",
    "        temp_var += name[i]\n",
    "        print(f\"{name[i]} : {name.count(name[i])}\")\n",
    "    i += 1\n"
   ]
  },
  {
   "cell_type": "markdown",
   "metadata": {},
   "source": [
    "# For Loop"
   ]
  },
  {
   "cell_type": "code",
   "execution_count": 27,
   "metadata": {},
   "outputs": [
    {
     "name": "stdout",
     "output_type": "stream",
     "text": [
      "hello world\n",
      "hello world\n",
      "hello world\n",
      "hello world\n",
      "hello world\n",
      "hello world\n",
      "hello world\n",
      "hello world\n",
      "hello world\n",
      "hello world\n"
     ]
    }
   ],
   "source": [
    "for i in range(10):\n",
    "    print(\"hello world\")"
   ]
  },
  {
   "cell_type": "code",
   "execution_count": 33,
   "metadata": {},
   "outputs": [
    {
     "name": "stdout",
     "output_type": "stream",
     "text": [
      "hello world : 0\n",
      "hello world : 1\n",
      "hello world : 2\n",
      "hello world : 3\n",
      "hello world : 4\n",
      "hello world : 5\n",
      "hello world : 6\n",
      "hello world : 7\n",
      "hello world : 8\n",
      "hello world : 9\n"
     ]
    }
   ],
   "source": [
    "for j in range(10):\n",
    "    print(f\"hello world : {j}\")\n"
   ]
  },
  {
   "cell_type": "code",
   "execution_count": 38,
   "metadata": {},
   "outputs": [
    {
     "name": "stdout",
     "output_type": "stream",
     "text": [
      "Enter a number10\n",
      "55\n"
     ]
    }
   ],
   "source": [
    "#sum of n numbers\n",
    "number = input(\"Enter a number\")\n",
    "number = int(number)\n",
    "total = 0\n",
    "for i in range(1,number+1):\n",
    "    total += i\n",
    "print(total)"
   ]
  },
  {
   "cell_type": "code",
   "execution_count": 1,
   "metadata": {},
   "outputs": [
    {
     "name": "stdout",
     "output_type": "stream",
     "text": [
      "Enter your number: 1234\n",
      "10\n"
     ]
    }
   ],
   "source": [
    "#input more than 1 digit number and sum them\n",
    "num = input(\"Enter your number: \")\n",
    "total = 0\n",
    "for i in range(0, len(num)):\n",
    "    total += int(num[i])\n",
    "print(total)"
   ]
  },
  {
   "cell_type": "code",
   "execution_count": 45,
   "metadata": {},
   "outputs": [
    {
     "name": "stdout",
     "output_type": "stream",
     "text": [
      "Enter your name: habibur rahman habib\n",
      "h: 3\n",
      "a: 4\n",
      "b: 4\n",
      "i: 2\n",
      "u: 1\n",
      "r: 2\n",
      " : 2\n",
      "m: 1\n",
      "n: 1\n"
     ]
    }
   ],
   "source": [
    "name = input(\"Enter your name: \")\n",
    "temp = \"\"\n",
    "for i in range(len(name)):\n",
    "    if name[i] not in temp:\n",
    "        temp += name[i]\n",
    "        print(f\"{name[i]}: {name.count(name[i])}\")"
   ]
  },
  {
   "cell_type": "markdown",
   "metadata": {},
   "source": [
    "# break and continue"
   ]
  },
  {
   "cell_type": "code",
   "execution_count": 7,
   "metadata": {},
   "outputs": [
    {
     "name": "stdout",
     "output_type": "stream",
     "text": [
      "1\n",
      "2\n",
      "3\n",
      "4\n"
     ]
    }
   ],
   "source": [
    "for i in range(1,11):\n",
    "    if i==5:\n",
    "        break\n",
    "    print(i)"
   ]
  },
  {
   "cell_type": "code",
   "execution_count": 8,
   "metadata": {},
   "outputs": [
    {
     "name": "stdout",
     "output_type": "stream",
     "text": [
      "1\n",
      "2\n",
      "3\n",
      "4\n",
      "6\n",
      "7\n",
      "8\n",
      "9\n",
      "10\n"
     ]
    }
   ],
   "source": [
    "for i in range (1,11):\n",
    "    if i==5:\n",
    "        continue\n",
    "    print(i)"
   ]
  },
  {
   "cell_type": "code",
   "execution_count": null,
   "metadata": {},
   "outputs": [],
   "source": [
    "import random\n",
    "winning_number = random.randint(1,100)\n",
    "guess_count = 1;\n",
    "guess_number = (input(\"Guess a number between 1 and 100: \")\n",
    "guess_number = int(guess_number)\n",
    "game_over = False \n",
    "while not game_over:\n",
    "    if guess_number == winning_number:\n",
    "        print(f\"you won, you have guessed it{guess_count} times\")\n",
    "        game_over = True\n",
    "    else :\n",
    "        if guess_number > winning_number:\n",
    "            print(\"Too High\")\n",
    "            guess_count += 1\n",
    "            guess_number = input(\"Guess Again: \")\n",
    "        else:\n",
    "            print(\"Too Low\")\n",
    "            guess_count += 1\n",
    "            guess_number = input(\"Guess Again: \")\n",
    "    "
   ]
  },
  {
   "cell_type": "code",
   "execution_count": null,
   "metadata": {},
   "outputs": [],
   "source": [
    "import random \n",
    "wNumber = random. randint(1,100)\n",
    "n = int(input(\"Enter a number between 1 and 100 : \"))\n",
    "for i in range(1,100):\n",
    "    if n == wNumber:\n",
    "        print(\"You win and you guess the number {i} Times\")\n",
    "        break\n",
    "    else:\n",
    "        if n > wNumber:\n",
    "            print(\"Too High\")\n",
    "        else:\n",
    "            print(\"Too low\")\n",
    "        n = input(\"Guess again:\")"
   ]
  },
  {
   "cell_type": "code",
   "execution_count": null,
   "metadata": {},
   "outputs": [],
   "source": [
    "import random\n",
    "n=random.randint(1,100)\n",
    "temp=1\n",
    "num=int(input(\"Guess a number between 1 to 100: \"))\n",
    "while num!=n:\n",
    "    if num<n :\n",
    "        print (\"too low\")\n",
    "    elif num>n:\n",
    "        print(\"too high\")\n",
    "    num=int(input(\"Guess again: \"))\n",
    "    temp+=1\n",
    "print(f\"YOU WIN!!!! \\nAnd you guessed the correct number in {temp} times\")"
   ]
  },
  {
   "cell_type": "code",
   "execution_count": null,
   "metadata": {},
   "outputs": [],
   "source": [
    "import random\n",
    "var1= random.randint(0,10)\n",
    "var2= int(input(\"enter you number : \"))\n",
    "i = 1\n",
    "\n",
    "if var2 > var1:\n",
    "    print(\"too high\")\n",
    "    for z in range (0,100):\n",
    "        \n",
    "        var2 = int(input(\"guess again :\"))\n",
    "        if var2 > var1 :\n",
    "            print(\"too high\" )\n",
    "            i += 1\n",
    "            continue\n",
    "        elif var1 > var2:\n",
    "            print(\"too low\")\n",
    "            i += 1\n",
    "            continue\n",
    "        else:\n",
    "            i += 1\n",
    "            break\n",
    "    print(F\"Your win the game in {i+1} Attempt\")\n",
    "\n",
    "elif var2 < var1:\n",
    "    print(\"too low\")\n",
    "    for z in range (0,100):\n",
    "        \n",
    "        var2 = int(input(\"guess again :\"))\n",
    "        if var2 > var1 :\n",
    "            print(\"too high\" )\n",
    "            i += 1\n",
    "            continue\n",
    "        elif var1 > var2:\n",
    "            print(\"too low\")\n",
    "            i += 1\n",
    "            continue\n",
    "        else:\n",
    "            i += 1\n",
    "            break\n",
    "    print(F\"Your win the game in {i+1} Attempt\")\n",
    "\n",
    "else:\n",
    "    print(F\"Your win the game in {i+1} Attempt\")"
   ]
  },
  {
   "cell_type": "code",
   "execution_count": null,
   "metadata": {},
   "outputs": [],
   "source": [
    "import random\n",
    "winner = random.randint(1,100)\n",
    "\n",
    "print(\"This is advanced guessing number game\")\n",
    "num = int(input(\"So Guess the number between 1 to 100 : \"))\n",
    "for i in range(1,100):\n",
    "    # num = int(input(\"So Guess the number between 1 to 100 : \"))\n",
    "    if num == winner:\n",
    "        print(\"Congo you Won !!\")\n",
    "        break\n",
    "    elif num > winner:\n",
    "        print(\"too HIGH\")\n",
    "        num = int(input(\"Guess again : \"))\n",
    "        continue\n",
    "    else:\n",
    "        print(\"Too LOW\")\n",
    "        num = int(input(\"Guess again : \"))\n",
    "        continue    \n",
    "print(f\"You have guessed {i} times\")"
   ]
  },
  {
   "cell_type": "code",
   "execution_count": 16,
   "metadata": {},
   "outputs": [
    {
     "name": "stdout",
     "output_type": "stream",
     "text": [
      " Enter a number between 1 to 9: 4\n",
      "guess again: 5\n",
      "guess again: 8\n",
      "Well guessed\n"
     ]
    }
   ],
   "source": [
    "import random\n",
    "number = random.randint(1,10)\n",
    "guess = int(input(\" Enter a number between 1 to 9: \"))\n",
    "\n",
    "for i in range(1,10):\n",
    "    if (guess == number):\n",
    "        print(\"Well guessed\")\n",
    "        break\n",
    "    else:\n",
    "        guess = int(input(\"guess again: \"))"
   ]
  },
  {
   "cell_type": "code",
   "execution_count": null,
   "metadata": {},
   "outputs": [],
   "source": []
  }
 ],
 "metadata": {
  "kernelspec": {
   "display_name": "Python 3",
   "language": "python",
   "name": "python3"
  },
  "language_info": {
   "codemirror_mode": {
    "name": "ipython",
    "version": 3
   },
   "file_extension": ".py",
   "mimetype": "text/x-python",
   "name": "python",
   "nbconvert_exporter": "python",
   "pygments_lexer": "ipython3",
   "version": "3.7.6"
  }
 },
 "nbformat": 4,
 "nbformat_minor": 4
}
