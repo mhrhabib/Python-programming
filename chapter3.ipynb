{
 "cells": [
  {
   "cell_type": "markdown",
   "metadata": {},
   "source": [
    "# if and else statement "
   ]
  },
  {
   "cell_type": "code",
   "execution_count": 2,
   "metadata": {},
   "outputs": [
    {
     "name": "stdout",
     "output_type": "stream",
     "text": [
      "Enter your age: 15\n",
      "Not applicable!\n"
     ]
    }
   ],
   "source": [
    "age = input(\"Enter your age: \")\n",
    "age = int(age)\n",
    "if(age >= 18):\n",
    "    print(\"your are good to go\")\n",
    "else:\n",
    "    print(\"Not applicable!\")"
   ]
  },
  {
   "cell_type": "markdown",
   "metadata": {},
   "source": [
    "# pass statement"
   ]
  },
  {
   "cell_type": "code",
   "execution_count": 5,
   "metadata": {},
   "outputs": [],
   "source": [
    "number = 34\n",
    "if number > 34:\n",
    "    pass"
   ]
  },
  {
   "cell_type": "code",
   "execution_count": 9,
   "metadata": {},
   "outputs": [
    {
     "name": "stdout",
     "output_type": "stream",
     "text": [
      "your number is: 34\n",
      "You win!!!\n"
     ]
    }
   ],
   "source": [
    "winning_number = 34\n",
    "guest_number = input(\"your number is: \")\n",
    "guest_number = int(guest_number)\n",
    "if guest_number == winning_number:\n",
    "    print(\"You win!!!\")\n",
    "elif guest_number < winning_number:\n",
    "    print(\"Your number is low.\")\n",
    "else:\n",
    "    print(\"Your number is high.\")"
   ]
  },
  {
   "cell_type": "markdown",
   "metadata": {},
   "source": [
    "# Exercise"
   ]
  },
  {
   "cell_type": "code",
   "execution_count": 10,
   "metadata": {},
   "outputs": [],
   "source": [
    "#watch onward\n",
    "#ask user's name and age\n",
    "#if user's name start with (a or A) and age is above 10\n",
    "#print ('you can watch the movie')\n",
    "#else print \"sorry you can't watch the movie\""
   ]
  },
  {
   "cell_type": "code",
   "execution_count": 14,
   "metadata": {},
   "outputs": [
    {
     "name": "stdout",
     "output_type": "stream",
     "text": [
      "input your name and agearhum 34\n",
      "you can watch the movie.\n"
     ]
    }
   ],
   "source": [
    "name, age = input(\"input your name and age\").split(' ')\n",
    "age = int(age)\n",
    "# name = name.lower()\n",
    "# if name[0]== 'a' and age > 10 :\n",
    "if age >= 10 and (name[0]=='a' or name[0]=='A'):\n",
    "    print(\"you can watch the movie.\")\n",
    "else:\n",
    "    print(\"you can't watch the movie..\")"
   ]
  },
  {
   "cell_type": "code",
   "execution_count": null,
   "metadata": {},
   "outputs": [],
   "source": []
  },
  {
   "cell_type": "code",
   "execution_count": null,
   "metadata": {},
   "outputs": [],
   "source": []
  }
 ],
 "metadata": {
  "kernelspec": {
   "display_name": "Python 3",
   "language": "python",
   "name": "python3"
  },
  "language_info": {
   "codemirror_mode": {
    "name": "ipython",
    "version": 3
   },
   "file_extension": ".py",
   "mimetype": "text/x-python",
   "name": "python",
   "nbconvert_exporter": "python",
   "pygments_lexer": "ipython3",
   "version": "3.7.6"
  }
 },
 "nbformat": 4,
 "nbformat_minor": 4
}
