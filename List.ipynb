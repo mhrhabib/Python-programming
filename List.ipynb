{
 "cells": [
  {
   "cell_type": "markdown",
   "metadata": {},
   "source": [
    "# List\n"
   ]
  },
  {
   "cell_type": "code",
   "execution_count": 1,
   "metadata": {},
   "outputs": [
    {
     "name": "stdout",
     "output_type": "stream",
     "text": [
      "[1, 2, 3]\n"
     ]
    }
   ],
   "source": [
    "mylist= [1,2,3]\n",
    "print(mylist)"
   ]
  },
  {
   "cell_type": "code",
   "execution_count": 2,
   "metadata": {},
   "outputs": [
    {
     "name": "stdout",
     "output_type": "stream",
     "text": [
      "3\n"
     ]
    }
   ],
   "source": [
    "print(len(mylist))"
   ]
  },
  {
   "cell_type": "code",
   "execution_count": 11,
   "metadata": {},
   "outputs": [
    {
     "name": "stdout",
     "output_type": "stream",
     "text": [
      "[1, 2, 3]\n"
     ]
    }
   ],
   "source": [
    "print(mylist[:3])"
   ]
  },
  {
   "cell_type": "code",
   "execution_count": 12,
   "metadata": {},
   "outputs": [
    {
     "name": "stdout",
     "output_type": "stream",
     "text": [
      "['b', 'c', 'd', 'e']\n"
     ]
    }
   ],
   "source": [
    "list1 = ['a','b','c','d','e']\n",
    "print(list1[1:5])"
   ]
  },
  {
   "cell_type": "code",
   "execution_count": 13,
   "metadata": {},
   "outputs": [],
   "source": [
    "#lists are mutable unlike the strings"
   ]
  },
  {
   "cell_type": "code",
   "execution_count": 14,
   "metadata": {},
   "outputs": [
    {
     "name": "stdout",
     "output_type": "stream",
     "text": [
      "['new item', 'b', 'c', 'd', 'e']\n"
     ]
    }
   ],
   "source": [
    "list1[0] = \"new item\"\n",
    "print(list1)"
   ]
  },
  {
   "cell_type": "code",
   "execution_count": 1,
   "metadata": {},
   "outputs": [],
   "source": [
    "#add items to list\n",
    "fruits = ['grapes', 'apple']\n",
    "fruits.append(\"mango\")"
   ]
  },
  {
   "cell_type": "code",
   "execution_count": 2,
   "metadata": {},
   "outputs": [
    {
     "name": "stdout",
     "output_type": "stream",
     "text": [
      "['grapes', 'apple', 'mango']\n"
     ]
    }
   ],
   "source": [
    "print(fruits)"
   ]
  },
  {
   "cell_type": "code",
   "execution_count": 3,
   "metadata": {},
   "outputs": [
    {
     "name": "stdout",
     "output_type": "stream",
     "text": [
      "['grapes', 'apple', 'mango', 'orange']\n"
     ]
    }
   ],
   "source": [
    "#append method adds item to the end of the list\n",
    "\n",
    "fruits.append(\"orange\")\n",
    "print(fruits)"
   ]
  },
  {
   "cell_type": "code",
   "execution_count": 5,
   "metadata": {},
   "outputs": [
    {
     "name": "stdout",
     "output_type": "stream",
     "text": [
      "['grapes', 'apple', 'Guava', 'mango', 'orange']\n"
     ]
    }
   ],
   "source": [
    "#insert method, whereever you want to add to the list\n",
    "fruits.insert(2, \"Guava\")\n",
    "print(fruits)"
   ]
  },
  {
   "cell_type": "code",
   "execution_count": 1,
   "metadata": {},
   "outputs": [
    {
     "name": "stdout",
     "output_type": "stream",
     "text": [
      "['mango', 'orange', 'guava', 'apple']\n"
     ]
    }
   ],
   "source": [
    "#how to join two lists\n",
    "fruits1 = [\"mango\", \"orange\"]\n",
    "fruits2 = [\"guava\", \"apple\"]\n",
    "fruits = fruits1 + fruits2\n",
    "print(fruits)\n"
   ]
  },
  {
   "cell_type": "code",
   "execution_count": 11,
   "metadata": {},
   "outputs": [
    {
     "name": "stdout",
     "output_type": "stream",
     "text": [
      "['mango', 'orange', 'guava', 'apple', 'guava', 'apple', 'guava', 'apple', 'guava', 'apple', 'guava', 'apple', 'guava', 'apple', 'guava', 'apple']\n",
      "['guava', 'apple']\n"
     ]
    }
   ],
   "source": [
    "#extend method\n",
    "fruits1.extend(fruits2)\n",
    "print(fruits1)\n",
    "print(fruits2)"
   ]
  },
  {
   "cell_type": "code",
   "execution_count": 13,
   "metadata": {},
   "outputs": [
    {
     "name": "stdout",
     "output_type": "stream",
     "text": [
      "['mango', 'orange', 'guava', 'apple', 'guava', 'apple', 'guava', 'apple', 'guava', 'apple', 'guava', 'apple', 'guava', 'apple', 'guava', 'apple', ['guava', 'apple'], ['guava', 'apple']]\n"
     ]
    }
   ],
   "source": [
    "(fruits1.append(fruits2))\n",
    "print(fruits1)"
   ]
  },
  {
   "cell_type": "code",
   "execution_count": 14,
   "metadata": {},
   "outputs": [
    {
     "name": "stdout",
     "output_type": "stream",
     "text": [
      "['mango', 'orange', 'guava', 'apple', 'guava', 'apple', 'guava', 'apple', 'guava', 'apple', 'guava', 'apple', 'guava', 'apple', 'guava', 'apple', ['guava', 'apple']]\n"
     ]
    }
   ],
   "source": [
    "#delete a item from the list\n",
    "fruits1.pop()\n",
    "print(fruits1)"
   ]
  },
  {
   "cell_type": "code",
   "execution_count": 15,
   "metadata": {},
   "outputs": [
    {
     "name": "stdout",
     "output_type": "stream",
     "text": [
      "['mango', 'orange', 'apple', 'guava', 'apple', 'guava', 'apple', 'guava', 'apple', 'guava', 'apple', 'guava', 'apple', 'guava', 'apple', ['guava', 'apple']]\n"
     ]
    }
   ],
   "source": [
    "del fruits1[2]\n",
    "print(fruits1)"
   ]
  },
  {
   "cell_type": "code",
   "execution_count": 16,
   "metadata": {},
   "outputs": [
    {
     "name": "stdout",
     "output_type": "stream",
     "text": [
      "['mango', 'orange', 'guava', 'apple', 'guava', 'apple', 'guava', 'apple', 'guava', 'apple', 'guava', 'apple', 'guava', 'apple', ['guava', 'apple']]\n"
     ]
    }
   ],
   "source": [
    "fruits1.remove(\"apple\")\n",
    "print(fruits1)"
   ]
  },
  {
   "cell_type": "code",
   "execution_count": 26,
   "metadata": {},
   "outputs": [
    {
     "name": "stdout",
     "output_type": "stream",
     "text": [
      "['mango', 'orange', 'guava', 'apple', 'guava', 'apple']\n"
     ]
    }
   ],
   "source": [
    "fruits1.pop(6)\n",
    "print(fruits1)"
   ]
  },
  {
   "cell_type": "code",
   "execution_count": 27,
   "metadata": {},
   "outputs": [
    {
     "name": "stdout",
     "output_type": "stream",
     "text": [
      "mango mango mongo \n"
     ]
    }
   ],
   "source": [
    "#in keyword\n",
    "\n",
    "if \"mango\" in fruits1:\n",
    "    print(\"mango mango mongo \")\n",
    "else:\n",
    "    print(\"No mango\")"
   ]
  },
  {
   "cell_type": "code",
   "execution_count": 28,
   "metadata": {},
   "outputs": [
    {
     "name": "stdout",
     "output_type": "stream",
     "text": [
      "2\n"
     ]
    }
   ],
   "source": [
    "fruits = ['orange', 'banana', 'apple',\"kiwi\", 'pinapple', 'banana', 'apple']\n",
    "#count method\n",
    "print(fruits.count('apple'))\n"
   ]
  },
  {
   "cell_type": "code",
   "execution_count": 29,
   "metadata": {},
   "outputs": [
    {
     "name": "stdout",
     "output_type": "stream",
     "text": [
      "['apple', 'apple', 'banana', 'banana', 'kiwi', 'orange', 'pinapple']\n"
     ]
    }
   ],
   "source": [
    "fruits.sort()\n",
    "print(fruits)"
   ]
  },
  {
   "cell_type": "code",
   "execution_count": 34,
   "metadata": {},
   "outputs": [
    {
     "name": "stdout",
     "output_type": "stream",
     "text": [
      "[1, 3, 4, 5, 8, 11, 15]\n"
     ]
    }
   ],
   "source": [
    "numbers = [3, 5, 1, 11, 4, 8, 15]\n",
    "numbers.sort()\n",
    "print(numbers)"
   ]
  },
  {
   "cell_type": "code",
   "execution_count": 35,
   "metadata": {},
   "outputs": [
    {
     "name": "stdout",
     "output_type": "stream",
     "text": [
      "[15, 11, 8, 5, 4, 3, 1]\n"
     ]
    }
   ],
   "source": [
    "numbers.reverse()\n",
    "print(numbers)"
   ]
  },
  {
   "cell_type": "code",
   "execution_count": 32,
   "metadata": {},
   "outputs": [
    {
     "name": "stdout",
     "output_type": "stream",
     "text": [
      "[]\n"
     ]
    }
   ],
   "source": [
    "numbers.clear()\n",
    "print(numbers)"
   ]
  },
  {
   "cell_type": "code",
   "execution_count": 36,
   "metadata": {},
   "outputs": [
    {
     "name": "stdout",
     "output_type": "stream",
     "text": [
      "[15, 11, 8, 5, 4, 3, 1]\n"
     ]
    }
   ],
   "source": [
    "numbers_copy = numbers.copy()\n",
    "print(numbers_copy)"
   ]
  },
  {
   "cell_type": "code",
   "execution_count": 37,
   "metadata": {},
   "outputs": [
    {
     "name": "stdout",
     "output_type": "stream",
     "text": [
      "['habib', '26']\n"
     ]
    }
   ],
   "source": [
    "#split method\n",
    "#convert string into list\n",
    "user_info = \"habib 26\".split()\n",
    "print(user_info)"
   ]
  },
  {
   "cell_type": "code",
   "execution_count": 40,
   "metadata": {},
   "outputs": [
    {
     "name": "stdout",
     "output_type": "stream",
     "text": [
      "Enter your name and age: habibi 56\n",
      "['habibi 56']\n"
     ]
    }
   ],
   "source": [
    "user = input(\"Enter your name and age: \").split(',')\n",
    "print(user)"
   ]
  },
  {
   "cell_type": "code",
   "execution_count": 46,
   "metadata": {},
   "outputs": [
    {
     "name": "stdout",
     "output_type": "stream",
     "text": [
      "habib,45\n"
     ]
    }
   ],
   "source": [
    "#join method\n",
    "#convert list into string\n",
    "\n",
    "name = [\"habib\", \"45\"]\n",
    "print((\",\").join(name))"
   ]
  },
  {
   "cell_type": "code",
   "execution_count": null,
   "metadata": {},
   "outputs": [],
   "source": []
  }
 ],
 "metadata": {
  "kernelspec": {
   "display_name": "Python 3",
   "language": "python",
   "name": "python3"
  },
  "language_info": {
   "codemirror_mode": {
    "name": "ipython",
    "version": 3
   },
   "file_extension": ".py",
   "mimetype": "text/x-python",
   "name": "python",
   "nbconvert_exporter": "python",
   "pygments_lexer": "ipython3",
   "version": "3.7.6"
  }
 },
 "nbformat": 4,
 "nbformat_minor": 4
}
