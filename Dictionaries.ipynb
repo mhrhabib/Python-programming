{
 "cells": [
  {
   "cell_type": "markdown",
   "metadata": {},
   "source": [
    "# Dictionaries"
   ]
  },
  {
   "cell_type": "code",
   "execution_count": 1,
   "metadata": {},
   "outputs": [
    {
     "name": "stdout",
     "output_type": "stream",
     "text": [
      "{'name': 'Habib', 'age': 26}\n"
     ]
    }
   ],
   "source": [
    "# how to create dictionaries\n",
    "\n",
    "user = {\"name\" : \"Habib\", \"age\" : 26}\n",
    "print(user)"
   ]
  },
  {
   "cell_type": "code",
   "execution_count": 2,
   "metadata": {},
   "outputs": [
    {
     "data": {
      "text/plain": [
       "dict"
      ]
     },
     "execution_count": 2,
     "metadata": {},
     "output_type": "execute_result"
    }
   ],
   "source": [
    "type(user)"
   ]
  },
  {
   "cell_type": "code",
   "execution_count": 3,
   "metadata": {},
   "outputs": [
    {
     "name": "stdout",
     "output_type": "stream",
     "text": [
      "{'name': 'Jahid', 'age': 23}\n"
     ]
    }
   ],
   "source": [
    "# another way to create dictionary\n",
    "\n",
    "user1 = dict(name = \"Jahid\", age = 23)\n",
    "print(user1)"
   ]
  },
  {
   "cell_type": "code",
   "execution_count": 4,
   "metadata": {},
   "outputs": [
    {
     "data": {
      "text/plain": [
       "dict"
      ]
     },
     "execution_count": 4,
     "metadata": {},
     "output_type": "execute_result"
    }
   ],
   "source": [
    "type(user1)"
   ]
  },
  {
   "cell_type": "markdown",
   "metadata": {},
   "source": [
    "# How to access data from dictionary\n",
    "\n"
   ]
  },
  {
   "cell_type": "markdown",
   "metadata": {},
   "source": [
    "# (NOTE): There is no indexing because of unordered collection of data.\n"
   ]
  },
  {
   "cell_type": "code",
   "execution_count": 7,
   "metadata": {},
   "outputs": [
    {
     "name": "stdout",
     "output_type": "stream",
     "text": [
      "Habib\n",
      "26\n"
     ]
    }
   ],
   "source": [
    "print(user[\"name\"])\n",
    "print(user[\"age\"])"
   ]
  },
  {
   "cell_type": "markdown",
   "metadata": {},
   "source": [
    "Which type of data a dictionary can store?"
   ]
  },
  {
   "cell_type": "code",
   "execution_count": 8,
   "metadata": {},
   "outputs": [],
   "source": [
    "# anything\n",
    "# numbers string list dict\n",
    "\n"
   ]
  },
  {
   "cell_type": "code",
   "execution_count": 46,
   "metadata": {},
   "outputs": [
    {
     "name": "stdout",
     "output_type": "stream",
     "text": [
      "{'name': 'Habib', 'age': 26, 'fav_movies': ['coco', 'american sniper'], 'fav_tunes': ['chainsmokers', 'enrique']}\n"
     ]
    }
   ],
   "source": [
    "user_info = {\n",
    "    'name' : 'Habib',\n",
    "    'age'  : 26,\n",
    "    'fav_movies': [\"coco\",\"american sniper\"],\n",
    "    'fav_tunes' : ['chainsmokers','enrique']\n",
    "}\n",
    "print(user_info)"
   ]
  },
  {
   "cell_type": "code",
   "execution_count": 11,
   "metadata": {},
   "outputs": [
    {
     "data": {
      "text/plain": [
       "['coco', 'american sniper']"
      ]
     },
     "execution_count": 11,
     "metadata": {},
     "output_type": "execute_result"
    }
   ],
   "source": [
    "user_info[\"fav_movies\"]"
   ]
  },
  {
   "cell_type": "markdown",
   "metadata": {},
   "source": [
    "    How to add data to empty dictionary"
   ]
  },
  {
   "cell_type": "code",
   "execution_count": 56,
   "metadata": {},
   "outputs": [],
   "source": [
    "cars_info = {}\n",
    "cars_info['name'] = 'karim'\n",
    "cars_info['age'] = 33"
   ]
  },
  {
   "cell_type": "code",
   "execution_count": 58,
   "metadata": {},
   "outputs": [],
   "source": [
    "cars_info[\"name\"]= \"habib\""
   ]
  },
  {
   "cell_type": "code",
   "execution_count": 59,
   "metadata": {},
   "outputs": [
    {
     "name": "stdout",
     "output_type": "stream",
     "text": [
      "{'name': 'habib', 'age': 33}\n"
     ]
    }
   ],
   "source": [
    "print(cars_info)"
   ]
  },
  {
   "cell_type": "markdown",
   "metadata": {},
   "source": [
    "# looping and in keyword in dictionary"
   ]
  },
  {
   "cell_type": "code",
   "execution_count": 17,
   "metadata": {},
   "outputs": [
    {
     "name": "stdout",
     "output_type": "stream",
     "text": [
      "present\n"
     ]
    }
   ],
   "source": [
    "if 'name' in user_info:\n",
    "    print('present')\n",
    "else:\n",
    "    print(\"Not present\")"
   ]
  },
  {
   "cell_type": "code",
   "execution_count": 19,
   "metadata": {},
   "outputs": [
    {
     "name": "stdout",
     "output_type": "stream",
     "text": [
      "present\n"
     ]
    }
   ],
   "source": [
    "if 'Habib' in user_info.values():\n",
    "    print('present')\n",
    "else:\n",
    "    print(\"Not present\")"
   ]
  },
  {
   "cell_type": "code",
   "execution_count": 20,
   "metadata": {},
   "outputs": [
    {
     "name": "stdout",
     "output_type": "stream",
     "text": [
      "Habib\n",
      "26\n",
      "['coco', 'american sniper']\n",
      "['chainsmokers', 'enrique']\n"
     ]
    }
   ],
   "source": [
    "for i in user_info.values():\n",
    "    print(i)"
   ]
  },
  {
   "cell_type": "markdown",
   "metadata": {},
   "source": [
    "# values method"
   ]
  },
  {
   "cell_type": "code",
   "execution_count": 21,
   "metadata": {},
   "outputs": [
    {
     "data": {
      "text/plain": [
       "dict_values(['Habib', 26, ['coco', 'american sniper'], ['chainsmokers', 'enrique']])"
      ]
     },
     "execution_count": 21,
     "metadata": {},
     "output_type": "execute_result"
    }
   ],
   "source": [
    "\n",
    "user_info.values()"
   ]
  },
  {
   "cell_type": "markdown",
   "metadata": {},
   "source": [
    "# keys method"
   ]
  },
  {
   "cell_type": "code",
   "execution_count": 22,
   "metadata": {},
   "outputs": [
    {
     "data": {
      "text/plain": [
       "dict_keys(['name', 'age', 'fav_movies', 'fav_tunes'])"
      ]
     },
     "execution_count": 22,
     "metadata": {},
     "output_type": "execute_result"
    }
   ],
   "source": [
    "\n",
    "user_info.keys()"
   ]
  },
  {
   "cell_type": "code",
   "execution_count": 23,
   "metadata": {},
   "outputs": [
    {
     "name": "stdout",
     "output_type": "stream",
     "text": [
      "Habib\n",
      "26\n",
      "['coco', 'american sniper']\n",
      "['chainsmokers', 'enrique']\n"
     ]
    }
   ],
   "source": [
    "for i in user_info:\n",
    "    print(user_info[i])"
   ]
  },
  {
   "cell_type": "markdown",
   "metadata": {},
   "source": [
    "# items method\n"
   ]
  },
  {
   "cell_type": "code",
   "execution_count": 24,
   "metadata": {},
   "outputs": [
    {
     "data": {
      "text/plain": [
       "dict_items([('name', 'Habib'), ('age', 26), ('fav_movies', ['coco', 'american sniper']), ('fav_tunes', ['chainsmokers', 'enrique'])])"
      ]
     },
     "execution_count": 24,
     "metadata": {},
     "output_type": "execute_result"
    }
   ],
   "source": [
    "user_info.items()"
   ]
  },
  {
   "cell_type": "code",
   "execution_count": 25,
   "metadata": {},
   "outputs": [
    {
     "data": {
      "text/plain": [
       "dict_items"
      ]
     },
     "execution_count": 25,
     "metadata": {},
     "output_type": "execute_result"
    }
   ],
   "source": [
    "type(user_info.items())"
   ]
  },
  {
   "cell_type": "code",
   "execution_count": 33,
   "metadata": {},
   "outputs": [
    {
     "name": "stdout",
     "output_type": "stream",
     "text": [
      " key is (name) and value is (Habib)\n",
      " key is (age) and value is (26)\n",
      " key is (fav_movies) and value is (['coco', 'american sniper'])\n",
      " key is (fav_tunes) and value is (['chainsmokers', 'enrique'])\n",
      " key is (fav_sport) and value is (['cricket', 'football', 'hockey'])\n"
     ]
    }
   ],
   "source": [
    "for key, value in user_info.items():\n",
    "    print(f\" key is ({key}) and value is ({value})\")"
   ]
  },
  {
   "cell_type": "code",
   "execution_count": 30,
   "metadata": {},
   "outputs": [
    {
     "name": "stdout",
     "output_type": "stream",
     "text": [
      "name Habib\n",
      "age 26\n",
      "fav_movies ['coco', 'american sniper']\n",
      "fav_tunes ['chainsmokers', 'enrique']\n"
     ]
    }
   ],
   "source": [
    "for i, j in user_info.items():\n",
    "    print(i, j)"
   ]
  },
  {
   "cell_type": "markdown",
   "metadata": {},
   "source": [
    "# How to add data to dictionaries"
   ]
  },
  {
   "cell_type": "code",
   "execution_count": 49,
   "metadata": {},
   "outputs": [
    {
     "name": "stdout",
     "output_type": "stream",
     "text": [
      "{'name': 'Habib', 'age': 26, 'fav_movies': ['coco', 'american sniper'], 'fav_tunes': ['chainsmokers', 'enrique'], 'fav_food': ['fish', 'vegetables'], 'fav_sport': ['cricket', 'football', 'hockey']}\n"
     ]
    }
   ],
   "source": [
    "user_info[\"fav_sport\"] = ['cricket','football','hockey']\n",
    "print(user_info)"
   ]
  },
  {
   "cell_type": "code",
   "execution_count": 48,
   "metadata": {},
   "outputs": [
    {
     "name": "stdout",
     "output_type": "stream",
     "text": [
      "{'name': 'Habib', 'age': 26, 'fav_movies': ['coco', 'american sniper'], 'fav_tunes': ['chainsmokers', 'enrique'], 'fav_food': ['fish', 'vegetables']}\n"
     ]
    }
   ],
   "source": [
    "user_info['fav_food'] = [\"fish\", 'vegetables']\n",
    "print(user_info)"
   ]
  },
  {
   "cell_type": "markdown",
   "metadata": {},
   "source": [
    "# POP method"
   ]
  },
  {
   "cell_type": "code",
   "execution_count": 36,
   "metadata": {},
   "outputs": [
    {
     "data": {
      "text/plain": [
       "['fish', 'vegetables']"
      ]
     },
     "execution_count": 36,
     "metadata": {},
     "output_type": "execute_result"
    }
   ],
   "source": [
    "user_info.pop(\"fav_food\")"
   ]
  },
  {
   "cell_type": "code",
   "execution_count": 50,
   "metadata": {},
   "outputs": [
    {
     "name": "stdout",
     "output_type": "stream",
     "text": [
      "{'name': 'Habib', 'age': 26, 'fav_movies': ['coco', 'american sniper'], 'fav_tunes': ['chainsmokers', 'enrique'], 'fav_food': ['fish', 'vegetables'], 'fav_sport': ['cricket', 'football', 'hockey']}\n"
     ]
    }
   ],
   "source": [
    "print(user_info)"
   ]
  },
  {
   "cell_type": "markdown",
   "metadata": {},
   "source": [
    "# popitem method"
   ]
  },
  {
   "cell_type": "code",
   "execution_count": 51,
   "metadata": {},
   "outputs": [
    {
     "name": "stdout",
     "output_type": "stream",
     "text": [
      "('fav_sport', ['cricket', 'football', 'hockey'])\n",
      "{'name': 'Habib', 'age': 26, 'fav_movies': ['coco', 'american sniper'], 'fav_tunes': ['chainsmokers', 'enrique'], 'fav_food': ['fish', 'vegetables']}\n"
     ]
    }
   ],
   "source": [
    "popped_item = user_info.popitem()\n",
    "print(popped_item)\n",
    "print(user_info)"
   ]
  },
  {
   "cell_type": "code",
   "execution_count": 39,
   "metadata": {},
   "outputs": [
    {
     "data": {
      "text/plain": [
       "tuple"
      ]
     },
     "execution_count": 39,
     "metadata": {},
     "output_type": "execute_result"
    }
   ],
   "source": [
    "type(popped_item)"
   ]
  },
  {
   "cell_type": "code",
   "execution_count": 52,
   "metadata": {},
   "outputs": [],
   "source": [
    "more_info = {'state': \"Dhaka\", 'hobbies': ['coding','playing','fishing']}\n"
   ]
  },
  {
   "cell_type": "markdown",
   "metadata": {},
   "source": [
    "# Update method"
   ]
  },
  {
   "cell_type": "code",
   "execution_count": 53,
   "metadata": {},
   "outputs": [],
   "source": [
    "user_info.update(more_info)"
   ]
  },
  {
   "cell_type": "code",
   "execution_count": 54,
   "metadata": {},
   "outputs": [
    {
     "name": "stdout",
     "output_type": "stream",
     "text": [
      "{'name': 'Habib', 'age': 26, 'fav_movies': ['coco', 'american sniper'], 'fav_tunes': ['chainsmokers', 'enrique'], 'fav_food': ['fish', 'vegetables'], 'state': 'Dhaka', 'hobbies': ['coding', 'playing', 'fishing']}\n"
     ]
    }
   ],
   "source": [
    "print(user_info)"
   ]
  },
  {
   "cell_type": "code",
   "execution_count": 55,
   "metadata": {},
   "outputs": [
    {
     "name": "stdout",
     "output_type": "stream",
     "text": [
      "{'name': 'Jhon', 'age': 26, 'fav_movies': ['coco', 'american sniper'], 'fav_tunes': ['chainsmokers', 'enrique'], 'fav_food': ['fish', 'vegetables'], 'state': 'Dhaka', 'hobbies': ['coding', 'playing', 'fishing']}\n"
     ]
    }
   ],
   "source": [
    "update_name = {'name' : \"Jhon\"}\n",
    "user_info.update(update_name)\n",
    "print(user_info)"
   ]
  },
  {
   "cell_type": "markdown",
   "metadata": {},
   "source": [
    "# fromkeys method"
   ]
  },
  {
   "cell_type": "code",
   "execution_count": 60,
   "metadata": {},
   "outputs": [
    {
     "name": "stdout",
     "output_type": "stream",
     "text": [
      "{'name': 'unknown', 'age': 'unknown', 'height': 'unknown'}\n"
     ]
    }
   ],
   "source": [
    "new_dic = dict.fromkeys(['name', \"age\", \"height\"], \"unknown\")\n",
    "print(new_dic)"
   ]
  },
  {
   "cell_type": "code",
   "execution_count": 62,
   "metadata": {},
   "outputs": [
    {
     "name": "stdout",
     "output_type": "stream",
     "text": [
      "{'a': 'string', 'b': 'string', 'c': 'string'}\n"
     ]
    }
   ],
   "source": [
    "new1 = dict.fromkeys('abc', 'string')\n",
    "print(new1)"
   ]
  },
  {
   "cell_type": "code",
   "execution_count": 69,
   "metadata": {},
   "outputs": [
    {
     "name": "stdout",
     "output_type": "stream",
     "text": [
      "1 numbers\n",
      "2 numbers\n",
      "3 numbers\n",
      "4 numbers\n",
      "5 numbers\n",
      "6 numbers\n",
      "7 numbers\n",
      "8 numbers\n",
      "9 numbers\n",
      "10 numbers\n"
     ]
    }
   ],
   "source": [
    "dict2 = dict.fromkeys(range(1,11), \"numbers\")\n",
    "for i, j in dict2.items():\n",
    "    print(i, j)"
   ]
  },
  {
   "cell_type": "code",
   "execution_count": null,
   "metadata": {},
   "outputs": [],
   "source": []
  }
 ],
 "metadata": {
  "kernelspec": {
   "display_name": "Python 3",
   "language": "python",
   "name": "python3"
  },
  "language_info": {
   "codemirror_mode": {
    "name": "ipython",
    "version": 3
   },
   "file_extension": ".py",
   "mimetype": "text/x-python",
   "name": "python",
   "nbconvert_exporter": "python",
   "pygments_lexer": "ipython3",
   "version": "3.7.6"
  }
 },
 "nbformat": 4,
 "nbformat_minor": 4
}
