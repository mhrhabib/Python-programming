{
 "cells": [
  {
   "cell_type": "markdown",
   "metadata": {},
   "source": [
    "# How to construct a class"
   ]
  },
  {
   "cell_type": "code",
   "execution_count": 1,
   "metadata": {},
   "outputs": [],
   "source": [
    "class Employee:\n",
    "    numberOfWorkingHours = 40\n",
    "    name = \"Habib\"\n",
    "    designation = \"Software developer\"\n",
    "    softwareMadeThisMonth = 5\n",
    "    def hasAchievedTarget(self):\n",
    "        if self.softwareMadeThisMonth >= 4:\n",
    "            print(\"target has been achieved\")\n",
    "        else:\n",
    "            print(\"target has not been achieved\")\n",
    "employee = Employee()\n"
   ]
  },
  {
   "cell_type": "code",
   "execution_count": 2,
   "metadata": {},
   "outputs": [
    {
     "data": {
      "text/plain": [
       "'Software developer'"
      ]
     },
     "execution_count": 2,
     "metadata": {},
     "output_type": "execute_result"
    }
   ],
   "source": [
    "employee.designation"
   ]
  },
  {
   "cell_type": "code",
   "execution_count": 51,
   "metadata": {},
   "outputs": [
    {
     "data": {
      "text/plain": [
       "'Habib'"
      ]
     },
     "execution_count": 51,
     "metadata": {},
     "output_type": "execute_result"
    }
   ],
   "source": [
    "employee.name"
   ]
  },
  {
   "cell_type": "code",
   "execution_count": 4,
   "metadata": {},
   "outputs": [
    {
     "name": "stdout",
     "output_type": "stream",
     "text": [
      "target has been achieved\n"
     ]
    }
   ],
   "source": [
    "employee.hasAchievedTarget()"
   ]
  },
  {
   "cell_type": "code",
   "execution_count": 52,
   "metadata": {},
   "outputs": [
    {
     "data": {
      "text/plain": [
       "40"
      ]
     },
     "execution_count": 52,
     "metadata": {},
     "output_type": "execute_result"
    }
   ],
   "source": [
    "employeeOne = Employee()\n",
    "employeeTwo = Employee()\n",
    "employeeOne.numberOfWorkingHours "
   ]
  },
  {
   "cell_type": "code",
   "execution_count": 53,
   "metadata": {},
   "outputs": [
    {
     "data": {
      "text/plain": [
       "40"
      ]
     },
     "execution_count": 53,
     "metadata": {},
     "output_type": "execute_result"
    }
   ],
   "source": [
    "employeeTwo.numberOfWorkingHours"
   ]
  },
  {
   "cell_type": "code",
   "execution_count": 54,
   "metadata": {},
   "outputs": [
    {
     "data": {
      "text/plain": [
       "45"
      ]
     },
     "execution_count": 54,
     "metadata": {},
     "output_type": "execute_result"
    }
   ],
   "source": [
    "Employee.numberOfWorkingHours = 45\n",
    "employeeOne.numberOfWorkingHours"
   ]
  },
  {
   "cell_type": "code",
   "execution_count": 55,
   "metadata": {},
   "outputs": [
    {
     "data": {
      "text/plain": [
       "45"
      ]
     },
     "execution_count": 55,
     "metadata": {},
     "output_type": "execute_result"
    }
   ],
   "source": [
    "employeeTwo.numberOfWorkingHours"
   ]
  },
  {
   "cell_type": "code",
   "execution_count": 15,
   "metadata": {},
   "outputs": [],
   "source": [
    "employeeOne.name = \"john\""
   ]
  },
  {
   "cell_type": "code",
   "execution_count": 16,
   "metadata": {},
   "outputs": [
    {
     "data": {
      "text/plain": [
       "'john'"
      ]
     },
     "execution_count": 16,
     "metadata": {},
     "output_type": "execute_result"
    }
   ],
   "source": [
    "employeeOne.name"
   ]
  },
  {
   "cell_type": "code",
   "execution_count": 31,
   "metadata": {},
   "outputs": [],
   "source": [
    "employeeTwo.name = \"Marry\""
   ]
  },
  {
   "cell_type": "code",
   "execution_count": 32,
   "metadata": {},
   "outputs": [
    {
     "data": {
      "text/plain": [
       "'Marry'"
      ]
     },
     "execution_count": 32,
     "metadata": {},
     "output_type": "execute_result"
    }
   ],
   "source": [
    "employeeTwo.name"
   ]
  },
  {
   "cell_type": "code",
   "execution_count": 56,
   "metadata": {},
   "outputs": [
    {
     "data": {
      "text/plain": [
       "40"
      ]
     },
     "execution_count": 56,
     "metadata": {},
     "output_type": "execute_result"
    }
   ],
   "source": [
    "employeeOne.numberOfWorkingHours = 40\n",
    "employeeOne.numberOfWorkingHours"
   ]
  },
  {
   "cell_type": "code",
   "execution_count": 57,
   "metadata": {},
   "outputs": [
    {
     "data": {
      "text/plain": [
       "45"
      ]
     },
     "execution_count": 57,
     "metadata": {},
     "output_type": "execute_result"
    }
   ],
   "source": [
    "employeeTwo.numberOfWorkingHours\n"
   ]
  },
  {
   "cell_type": "markdown",
   "metadata": {},
   "source": [
    "# SELF parameter"
   ]
  },
  {
   "cell_type": "code",
   "execution_count": 4,
   "metadata": {},
   "outputs": [],
   "source": [
    "class FootballGame:\n",
    "    def playerDetails(self):\n",
    "        pass\n",
    "footballPlayer = FootballGame()\n",
    "footballPlayer.playerDetails()\n"
   ]
  },
  {
   "cell_type": "code",
   "execution_count": 5,
   "metadata": {},
   "outputs": [
    {
     "ename": "SyntaxError",
     "evalue": "invalid syntax (<ipython-input-5-3265c5d3fdf1>, line 1)",
     "output_type": "error",
     "traceback": [
      "\u001b[1;36m  File \u001b[1;32m\"<ipython-input-5-3265c5d3fdf1>\"\u001b[1;36m, line \u001b[1;32m1\u001b[0m\n\u001b[1;33m    footballPlayer.playerDetails() is equal to\u001b[0m\n\u001b[1;37m                                             ^\u001b[0m\n\u001b[1;31mSyntaxError\u001b[0m\u001b[1;31m:\u001b[0m invalid syntax\n"
     ]
    }
   ],
   "source": [
    "footballPlayer.playerDetails() is equal to \n",
    "== FootballGame.playerDetails(footballPlayer)"
   ]
  },
  {
   "cell_type": "code",
   "execution_count": 4,
   "metadata": {},
   "outputs": [
    {
     "name": "stdout",
     "output_type": "stream",
     "text": [
      "Name = Rauf\n",
      "Age:  30\n",
      "Printing in another Method\n",
      "Name =  Rauf\n",
      "Age:  30\n"
     ]
    }
   ],
   "source": [
    "class Employee:\n",
    "    def employeeDetails(self):\n",
    "        self.name = \"Rauf\"\n",
    "        print (\"Name =\", self.name)\n",
    "        self.age = 30\n",
    "        print(\"Age: \",self.age)\n",
    "    def printEmployeeDetails(self):\n",
    "        print(\"Printing in another Method\")\n",
    "        print(\"Name = \", self.name)\n",
    "        print(\"Age: \", self.age)\n",
    "employee = Employee()\n",
    "employee.employeeDetails()\n",
    "employee.printEmployeeDetails()"
   ]
  },
  {
   "cell_type": "markdown",
   "metadata": {},
   "source": [
    "# static method and instance method"
   ]
  },
  {
   "cell_type": "markdown",
   "metadata": {},
   "source": [
    "Decorator"
   ]
  },
  {
   "cell_type": "markdown",
   "metadata": {},
   "source": [
    "## Instance method"
   ]
  },
  {
   "cell_type": "code",
   "execution_count": 15,
   "metadata": {},
   "outputs": [
    {
     "name": "stdout",
     "output_type": "stream",
     "text": [
      "Name:  Tashis\n",
      "Tashis\n",
      "welcome to the college!!\n"
     ]
    }
   ],
   "source": [
    "class Students:\n",
    "    def studentDetails(self):\n",
    "        self.name = \"Tashis\"\n",
    "        print(\"Name: \", self.name)\n",
    "    \n",
    "    @staticmethod\n",
    "    def welcomeMessage():\n",
    "        print(\"welcome to the college!!\")\n",
    "        \n",
    "students = Students()\n",
    "students.studentDetails()\n",
    "print(students.name)\n",
    "students.welcomeMessage()"
   ]
  },
  {
   "cell_type": "markdown",
   "metadata": {},
   "source": [
    "# Init() Method"
   ]
  },
  {
   "cell_type": "markdown",
   "metadata": {},
   "source": [
    "## Constructor"
   ]
  },
  {
   "cell_type": "code",
   "execution_count": 6,
   "metadata": {},
   "outputs": [
    {
     "name": "stdout",
     "output_type": "stream",
     "text": [
      "Jackfruit\n",
      "Mango\n"
     ]
    }
   ],
   "source": [
    "class Tree:\n",
    "    def __init__(self, name):\n",
    "        self.name = name\n",
    "    def giveTreeDetails(self):\n",
    "        print(self.name)\n",
    "tree = Tree(\"Jackfruit\")\n",
    "treeTwo = Tree(\"Mango\")\n",
    "tree.giveTreeDetails()\n",
    "treeTwo.giveTreeDetails()"
   ]
  },
  {
   "cell_type": "markdown",
   "metadata": {},
   "source": [
    "# Abstrauction and Encapsulation"
   ]
  },
  {
   "cell_type": "markdown",
   "metadata": {},
   "source": [
    "#### Implement a library management system which will handle the following tasks."
   ]
  },
  {
   "cell_type": "markdown",
   "metadata": {},
   "source": [
    "1. Customar should be able to display all the books availablle in the library\n",
    "2. Handle the process when a customer requests a book\n",
    "3. update the library collection when the customer returns a book"
   ]
  },
  {
   "cell_type": "code",
   "execution_count": 1,
   "metadata": {},
   "outputs": [],
   "source": [
    "# class => library\n",
    "#layers of abstruction => display available books, to lend a book, to add a book\n",
    "\n",
    "# class => Customer\n",
    "# layers of abstruction => request a book, return a book\n"
   ]
  },
  {
   "cell_type": "code",
   "execution_count": null,
   "metadata": {},
   "outputs": [],
   "source": [
    "class Library:\n",
    "    \n",
    "    def __init__(self, listOfBooks):\n",
    "        self.availableBooks = listOfBooks\n",
    "        \n",
    "    def displayAvailbaleBooks(self):\n",
    "        print()\n",
    "        print(\"Available Books: \")\n",
    "        for book in self.availableBooks:\n",
    "            print(book)\n",
    "    \n",
    "    def lendBook(self, requestedBook):\n",
    "        if requestedBook in self.availableBooks:\n",
    "            print(\"You have now borrowed the book.\")\n",
    "            self.availableBooks.remove(requestedBook)\n",
    "        else:\n",
    "            print(\"Sorry, the book is not available in our list.\")\n",
    "    \n",
    "    def addBook(self, returnedBook):\n",
    "        self.availableBooks.append(returnedBook)\n",
    "        print(\"You have returned the book. Thank you.\")\n",
    "    \n",
    "    \n",
    "class Customer:\n",
    "    \n",
    "    def requestBook(self):\n",
    "        print(\"Enter the name of the book you would like to borrow: \")\n",
    "        self.book = input()\n",
    "        return self.book\n",
    "        \n",
    "    def returnBook(self):\n",
    "        print(\"Enter the name of the book which you are returning: \")\n",
    "        self.book = input()\n",
    "        return self.book\n",
    "        \n",
    "library = Library(['Mathematics','Bengali','Physics','Chemistry'])\n",
    "customer = Customer()\n",
    "while True:\n",
    "    print(\"Enter 1 to display the available books\")\n",
    "    print(\"Enter 2 to request a book\")\n",
    "    print(\"Enter 3 to return a book\")\n",
    "    print(\"Enter 4 to quit\")\n",
    "    userChoice = int(input())\n",
    "    if userChoice is 1:\n",
    "        library.displayAvailbaleBooks()\n",
    "    elif userChoice is 2:\n",
    "        requestedBook = customer.requestBook()\n",
    "        library.lendBook(requestedBook)\n",
    "    elif userChoice is 3:\n",
    "        retrunedBook = customer.returnBook()\n",
    "        library.addBook(retrunedBook)\n",
    "    elif userChoice is 4:\n",
    "        quit()"
   ]
  },
  {
   "cell_type": "markdown",
   "metadata": {},
   "source": [
    "# Inheritance class"
   ]
  },
  {
   "cell_type": "code",
   "execution_count": 1,
   "metadata": {},
   "outputs": [
    {
     "name": "stdout",
     "output_type": "stream",
     "text": [
      "This MacBook was manufactured in the year 2017 by Apple Inc.\n",
      "To contact us, long on to  www.apple.com/contact\n"
     ]
    }
   ],
   "source": [
    "class Apple:\n",
    "    manufacturer = \"Apple Inc.\"\n",
    "    contactWebstie = \"www.apple.com/contact\"\n",
    "    \n",
    "    def contactDetails(self):\n",
    "        print(\"To contact us, long on to \", self.contactWebstie)\n",
    "    \n",
    "class MacBook(Apple):\n",
    "    def __init__(self):\n",
    "        self.yearOfManufacture = 2017\n",
    "        \n",
    "    def manufactureDetails(self):\n",
    "        print(\"This MacBook was manufactured in the year {} by {}\".format(self.yearOfManufacture, self.manufacturer))\n",
    "        \n",
    "macBook = MacBook()\n",
    "macBook.manufactureDetails()\n",
    "macBook.contactDetails()"
   ]
  },
  {
   "cell_type": "markdown",
   "metadata": {},
   "source": [
    "# multiple Inheritance"
   ]
  },
  {
   "cell_type": "code",
   "execution_count": 4,
   "metadata": {},
   "outputs": [
    {
     "name": "stdout",
     "output_type": "stream",
     "text": [
      "This is a multi tasking system. Visit www.apple.com for more details\n",
      "Name :  Mac OS\n"
     ]
    }
   ],
   "source": [
    "class OperatingSystem:\n",
    "    multitasking = True\n",
    "    name = \"Mac OS\"\n",
    "\n",
    "class Apple:\n",
    "    website = \"www.apple.com\"\n",
    "    name = 'Apple'\n",
    "\n",
    "class MacBook(OperatingSystem, Apple):\n",
    "    def __init__(self):\n",
    "        if self.multitasking is True:\n",
    "            print(\"This is a multi tasking system. Visit {} for more details\".format(self.website))\n",
    "            print(\"Name : \", self.name)\n",
    "    \n",
    "macBook = MacBook()"
   ]
  },
  {
   "cell_type": "code",
   "execution_count": null,
   "metadata": {},
   "outputs": [],
   "source": []
  }
 ],
 "metadata": {
  "kernelspec": {
   "display_name": "Python 3",
   "language": "python",
   "name": "python3"
  },
  "language_info": {
   "codemirror_mode": {
    "name": "ipython",
    "version": 3
   },
   "file_extension": ".py",
   "mimetype": "text/x-python",
   "name": "python",
   "nbconvert_exporter": "python",
   "pygments_lexer": "ipython3",
   "version": "3.7.6"
  }
 },
 "nbformat": 4,
 "nbformat_minor": 4
}
