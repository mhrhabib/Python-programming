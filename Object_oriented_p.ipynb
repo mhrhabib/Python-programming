{
 "cells": [
  {
   "cell_type": "markdown",
   "metadata": {},
   "source": [
    "# Defining classes & creating objects"
   ]
  },
  {
   "cell_type": "code",
   "execution_count": 1,
   "metadata": {},
   "outputs": [
    {
     "name": "stdout",
     "output_type": "stream",
     "text": [
      "Habib\n",
      "101\n",
      "78.25\n",
      " this is version 1.0 \n",
      "this is student class.\n",
      "Student Name:  Habib\n",
      "Roll Name:  101\n",
      "Marks:  78.25\n"
     ]
    }
   ],
   "source": [
    "class Student:\n",
    "    ''' this is version 1.0 '''\n",
    "    def __init__(self):\n",
    "        self.name = \"Habib\"\n",
    "        self.roll = 101\n",
    "        self.marks = 78.25\n",
    "    def __str__(self):\n",
    "        return \"this is student class.\"\n",
    "    \n",
    "    def display(self):\n",
    "        print('Student Name: ', self.name)\n",
    "        print(\"Roll Name: \", self.roll)\n",
    "        print(\"Marks: \", self.marks)\n",
    "    \n",
    "S = Student()\n",
    "print(S.name)\n",
    "print(S.roll)\n",
    "print(S.marks)\n",
    "print(S.__doc__)\n",
    "print(S)\n",
    "S.display()"
   ]
  },
  {
   "cell_type": "code",
   "execution_count": 2,
   "metadata": {},
   "outputs": [
    {
     "name": "stdout",
     "output_type": "stream",
     "text": [
      "Student Name:  Habib\n",
      "Roll Name:  101\n",
      "Marks:  78.25\n",
      "Student Name:  Habib\n",
      "Roll Name:  101\n",
      "Marks:  78.25\n",
      "Student Name:  Habib\n",
      "Roll Name:  101\n",
      "Marks:  78.25\n"
     ]
    }
   ],
   "source": [
    "class Student:\n",
    "    ''' this is version 1.0 '''\n",
    "    def __init__(self):\n",
    "        self.name = \"Habib\"\n",
    "        self.roll = 101\n",
    "        self.marks = 78.25\n",
    "    def __str__(self):\n",
    "        return \"this is student class.\"\n",
    "    \n",
    "    def display(self):\n",
    "        print('Student Name: ', self.name)\n",
    "        print(\"Roll Name: \", self.roll)\n",
    "        print(\"Marks: \", self.marks)\n",
    "s1 = Student()\n",
    "s2 = Student()\n",
    "s3 = Student()\n",
    "\n",
    "s1.display()\n",
    "s2.display()\n",
    "s3.display()"
   ]
  },
  {
   "cell_type": "code",
   "execution_count": 3,
   "metadata": {},
   "outputs": [
    {
     "name": "stdout",
     "output_type": "stream",
     "text": [
      "Student Name:  Rahim\n",
      "Roll Name:  101\n",
      "Marks:  75.75\n",
      "Student Name:  karim\n",
      "Roll Name:  202\n",
      "Marks:  55.55\n",
      "Student Name:  selim\n",
      "Roll Name:  303\n",
      "Marks:  35.35\n"
     ]
    }
   ],
   "source": [
    "class Student:\n",
    "    ''' this is version 1.0 '''\n",
    "    def __init__(self, name, roll, marks):\n",
    "        self.name = name\n",
    "        self.roll = roll\n",
    "        self.marks = marks\n",
    "    def __str__(self):\n",
    "        return \"this is student class.\"\n",
    "    \n",
    "    def display(self):\n",
    "        print('Student Name: ', self.name)\n",
    "        print(\"Roll Name: \", self.roll)\n",
    "        print(\"Marks: \", self.marks)\n",
    "s1 = Student(\"Rahim\", 101, 75.75)\n",
    "s2 = Student(\"karim\", 202, 55.55)\n",
    "s3 = Student(\"selim\", 303, 35.35)\n",
    "\n",
    "s1.display()\n",
    "s2.display()\n",
    "s3.display()"
   ]
  },
  {
   "cell_type": "code",
   "execution_count": 4,
   "metadata": {},
   "outputs": [
    {
     "name": "stdout",
     "output_type": "stream",
     "text": [
      "Student Name:  Rahim\n",
      "Roll Name:  101\n",
      "Marks:  75.75\n",
      "Student Name:  karim\n",
      "Roll Name:  202\n",
      "Marks:  55.55\n",
      "Student Name:  selim\n",
      "Roll Name:  303\n",
      "Marks:  35.35\n"
     ]
    }
   ],
   "source": [
    "class Student:\n",
    "    ''' this is version 1.0 '''\n",
    "    def __init__(self, name, roll, marks):\n",
    "        self.name = name\n",
    "        self.roll = roll\n",
    "        self.marks = marks\n",
    "    def __str__(self):\n",
    "        return \"this is student class.\"\n",
    "    \n",
    "    def display(self):\n",
    "        print('Student Name: ', self.name)\n",
    "        print(\"Roll Name: \", self.roll)\n",
    "        print(\"Marks: \", self.marks)\n",
    "s = [Student(\"Rahim\", 101, 75.75),\n",
    "     Student(\"karim\", 202, 55.55),\n",
    "     Student(\"selim\", 303, 35.35)]\n",
    "\n",
    "for i in s:\n",
    "    i.display()"
   ]
  },
  {
   "cell_type": "code",
   "execution_count": 17,
   "metadata": {},
   "outputs": [
    {
     "name": "stdout",
     "output_type": "stream",
     "text": [
      "In the constructor\n",
      "In the constructor\n",
      "House name:  Klantir sese \n",
      "House Location:  setabganj \n",
      "House Number:  47\n"
     ]
    }
   ],
   "source": [
    "class House:\n",
    "    def __init__(self):\n",
    "        self.name = \"Klantir sese\"\n",
    "        self.location = \"setabganj\"\n",
    "        self.housenumber = 47\n",
    "        print(\"In the constructor\")\n",
    "    def display(self):\n",
    "        print(\"House name: \",self.name,\"\\nHouse Location: \",self.location,\"\\nHouse Number: \",self.housenumber)\n",
    "house = House()\n",
    "house.__init__()\n",
    "house.display()"
   ]
  },
  {
   "cell_type": "markdown",
   "metadata": {},
   "source": [
    "# Initializing without init method"
   ]
  },
  {
   "cell_type": "code",
   "execution_count": 6,
   "metadata": {},
   "outputs": [
    {
     "name": "stdout",
     "output_type": "stream",
     "text": [
      "Student Name:  habib\n",
      "Roll number:  505\n",
      "Marks:  78.44\n"
     ]
    }
   ],
   "source": [
    "class House:\n",
    "    def display(self):\n",
    "        print(\"Student Name: \", self.name)\n",
    "        print(\"Roll number: \", self.roll)\n",
    "        print(\"Marks: \", self.marks)\n",
    "\n",
    "        \n",
    "h = House()\n",
    "h.name = \"habib\"\n",
    "h.roll = 505\n",
    "h.marks = 78.44\n",
    "h.display()"
   ]
  },
  {
   "cell_type": "code",
   "execution_count": 7,
   "metadata": {},
   "outputs": [
    {
     "name": "stdout",
     "output_type": "stream",
     "text": [
      "Student Name:  habib\n",
      "Roll number:  707\n",
      "Marks:  45.55\n"
     ]
    }
   ],
   "source": [
    "class House:\n",
    "    def assign(self, name, roll, marks):\n",
    "        self.name = name\n",
    "        self.roll = roll\n",
    "        self.marks = marks\n",
    "        \n",
    "    def display(self):\n",
    "        print(\"Student Name: \", self.name)\n",
    "        print(\"Roll number: \", self.roll)\n",
    "        print(\"Marks: \", self.marks)\n",
    "\n",
    "        \n",
    "h = House()\n",
    "h.assign(\"habib\", 707, 45.55)\n",
    "h.display()"
   ]
  },
  {
   "cell_type": "markdown",
   "metadata": {},
   "source": [
    "# accessing the symbol table or dictionary"
   ]
  },
  {
   "cell_type": "code",
   "execution_count": 19,
   "metadata": {},
   "outputs": [
    {
     "name": "stdout",
     "output_type": "stream",
     "text": [
      "{'name': 'habib', 'roll': 707, 'marks': 45.55}\n",
      "{'name': 'habib', 'roll': 707, 'marks': 80.34}\n",
      "{'name': 'habib', 'roll': 707, 'marks': 80.34, 'grade': 'A'}\n",
      "{'name': 'habib', 'roll': 707, 'marks': 80.34, 'grade': 'A', 'city': 'London'}\n",
      "Student Name:  habib\n",
      "Roll number:  707\n",
      "Marks:  80.34\n",
      "{'name': 'habib', 'roll': 707, 'grade': 'A', 'city': 'London'}\n"
     ]
    }
   ],
   "source": [
    "class Student:\n",
    "    def __init__(self, name, roll, marks):\n",
    "        self.name = name\n",
    "        self.roll = roll\n",
    "        self.marks = marks\n",
    "        \n",
    "    def display(self):\n",
    "        print(\"Student Name: \", self.name)\n",
    "        print(\"Roll number: \", self.roll)\n",
    "        print(\"Marks: \", self.marks)\n",
    "    \n",
    "    def profile(self):\n",
    "        self.city = \"London\"\n",
    "        states = \"ABC\"\n",
    "        \n",
    "S = Student(\"habib\", 707, 45.55)\n",
    "print(S.__dict__)\n",
    "S.marks = 80.34\n",
    "print(S.__dict__)\n",
    "S.grade = \"A\"\n",
    "print(S.__dict__)\n",
    "S.profile()\n",
    "print(S.__dict__)\n",
    "S.display()\n",
    "del S.marks\n",
    "print(S.__dict__)"
   ]
  },
  {
   "cell_type": "markdown",
   "metadata": {},
   "source": [
    "# Static and local variables"
   ]
  },
  {
   "cell_type": "code",
   "execution_count": 31,
   "metadata": {},
   "outputs": [
    {
     "name": "stdout",
     "output_type": "stream",
     "text": [
      "Student Name:  habib\n",
      "Roll number:  3407\n",
      "Marks:  75\n",
      "College Name:  UCLA\n",
      "\n",
      "Student Name:  karim\n",
      "Roll number:  4450\n",
      "Marks:  78\n",
      "College Name:  UCLA\n",
      "\n"
     ]
    }
   ],
   "source": [
    "# static variables\n",
    "# Example 1\n",
    "class Student:\n",
    "#     static variable\n",
    "    college = \"UCLA\"\n",
    "    \n",
    "    def __init__(self, name, roll, marks): \n",
    "        \"\"\"instance variables\"\"\"\n",
    "        self.name = name\n",
    "        self.roll = roll\n",
    "        self.marks = marks\n",
    "#     instance method    \n",
    "    def display(self):\n",
    "        print(\"Student Name: \", self.name)\n",
    "        print(\"Roll number: \", self.roll)\n",
    "        print(\"Marks: \", self.marks)\n",
    "        print(\"College Name: \", Student.college)\n",
    "        print()\n",
    "\n",
    "S1 = Student(\"habib\", 3407, 75)\n",
    "S2 = Student(\"karim\", 4450, 78)\n",
    "S1.display()\n",
    "S2.display()\n"
   ]
  },
  {
   "cell_type": "code",
   "execution_count": 32,
   "metadata": {},
   "outputs": [
    {
     "name": "stdout",
     "output_type": "stream",
     "text": [
      "Student Name:  habib\n",
      "Roll number:  3407\n",
      "Marks:  75\n",
      "College Name:  UCLA\n",
      "\n",
      "Student Name:  karim\n",
      "Roll number:  4450\n",
      "Marks:  78\n",
      "College Name:  UCLA\n",
      "\n"
     ]
    }
   ],
   "source": [
    "# Example 2\n",
    "class Student:\n",
    "    \n",
    "    def __init__(self, name, roll, marks): \n",
    "        \"\"\"instance variables\"\"\"\n",
    "        self.name = name\n",
    "        self.roll = roll\n",
    "        self.marks = marks\n",
    "#         static variable\n",
    "\n",
    "        Student.college = \"UCLA\"\n",
    "        \n",
    "#     instance method    \n",
    "    def display(self):\n",
    "        print(\"Student Name: \", self.name)\n",
    "        print(\"Roll number: \", self.roll)\n",
    "        print(\"Marks: \", self.marks)\n",
    "        print(\"College Name: \", Student.college)\n",
    "        print()\n",
    "S1 = Student(\"habib\", 3407, 75)\n",
    "S2 = Student(\"karim\", 4450, 78)\n",
    "S1.display()\n",
    "S2.display()"
   ]
  },
  {
   "cell_type": "code",
   "execution_count": 33,
   "metadata": {},
   "outputs": [
    {
     "name": "stdout",
     "output_type": "stream",
     "text": [
      "Student Name:  habib\n",
      "Roll number:  3407\n",
      "Marks:  75\n",
      "College Name:  UCLA\n",
      "\n",
      "Student Name:  karim\n",
      "Roll number:  4450\n",
      "Marks:  78\n",
      "College Name:  UCLA\n",
      "\n"
     ]
    }
   ],
   "source": [
    "# Example 3\n",
    "class Student:\n",
    "    \n",
    "    def __init__(self, name, roll, marks): \n",
    "        \"\"\"instance variables\"\"\"\n",
    "        self.name = name\n",
    "        self.roll = roll\n",
    "        self.marks = marks\n",
    "\n",
    "        \n",
    "#     instance method    \n",
    "    def display(self):\n",
    "        print(\"Student Name: \", self.name)\n",
    "        print(\"Roll number: \", self.roll)\n",
    "        print(\"Marks: \", self.marks)\n",
    "        print(\"College Name: \", Student.college)\n",
    "        print()\n",
    "\n",
    "#static variable\n",
    "Student.college = \"UCLA\"\n",
    "\n",
    "S1 = Student(\"habib\", 3407, 75)\n",
    "S2 = Student(\"karim\", 4450, 78)\n",
    "S1.display()\n",
    "S2.display()"
   ]
  },
  {
   "cell_type": "code",
   "execution_count": 34,
   "metadata": {},
   "outputs": [
    {
     "name": "stdout",
     "output_type": "stream",
     "text": [
      "Student Name:  habib\n",
      "Roll number:  3407\n",
      "Marks:  75\n",
      "College Name:  UCLA\n",
      "\n",
      "Student Name:  karim\n",
      "Roll number:  4450\n",
      "Marks:  78\n",
      "College Name:  UCLA\n",
      "\n"
     ]
    }
   ],
   "source": [
    "# Example 4\n",
    "class Student:\n",
    "    \n",
    "    def __init__(self, name, roll, marks): \n",
    "        \"\"\"instance variables\"\"\"\n",
    "        self.name = name\n",
    "        self.roll = roll\n",
    "        self.marks = marks\n",
    "\n",
    "        \n",
    "#     instance method    \n",
    "    def display(self):\n",
    "        print(\"Student Name: \", self.name)\n",
    "        print(\"Roll number: \", self.roll)\n",
    "        print(\"Marks: \", self.marks)\n",
    "        #static variable\n",
    "        Student.college = \"UCLA\"\n",
    "        print(\"College Name: \", Student.college)\n",
    "        print()\n",
    "\n",
    "\n",
    "\n",
    "S1 = Student(\"habib\", 3407, 75)\n",
    "S2 = Student(\"karim\", 4450, 78)\n",
    "S1.display()\n",
    "S2.display()"
   ]
  },
  {
   "cell_type": "code",
   "execution_count": 35,
   "metadata": {},
   "outputs": [
    {
     "name": "stdout",
     "output_type": "stream",
     "text": [
      "Student Name:  habib\n",
      "Roll number:  3407\n",
      "Marks:  75\n",
      "College Name:  UCLA\n",
      "\n",
      "Student Name:  karim\n",
      "Roll number:  4450\n",
      "Marks:  78\n",
      "College Name:  UCLA\n",
      "\n"
     ]
    }
   ],
   "source": [
    "# Example 5\n",
    "class Student:\n",
    "    \n",
    "    def __init__(self, name, roll, marks): \n",
    "        \"\"\"instance variables\"\"\"\n",
    "        self.name = name\n",
    "        self.roll = roll\n",
    "        self.marks = marks\n",
    "\n",
    "        \n",
    "#     instance method    \n",
    "    def display(self):\n",
    "        print(\"Student Name: \", self.name)\n",
    "        print(\"Roll number: \", self.roll)\n",
    "        print(\"Marks: \", self.marks)\n",
    "        #local variable\n",
    "        college = \"UCLA\"\n",
    "        print(\"College Name: \", college)\n",
    "        print()\n",
    "\n",
    "\n",
    "\n",
    "S1 = Student(\"habib\", 3407, 75)\n",
    "S2 = Student(\"karim\", 4450, 78)\n",
    "S1.display()\n",
    "S2.display()"
   ]
  },
  {
   "cell_type": "code",
   "execution_count": 36,
   "metadata": {},
   "outputs": [
    {
     "name": "stdout",
     "output_type": "stream",
     "text": [
      "Student Name:  habib\n",
      "Roll number:  3407\n",
      "Marks:  75\n",
      "College Name:  UCLA\n",
      "\n",
      "Student Name:  karim\n",
      "Roll number:  4450\n",
      "Marks:  78\n",
      "College Name:  UCLA\n",
      "\n"
     ]
    }
   ],
   "source": [
    "# Example 6\n",
    "class Student:\n",
    "    \n",
    "    def __init__(self, name, roll, marks): \n",
    "        \"\"\"instance variables\"\"\"\n",
    "        self.name = name\n",
    "        self.roll = roll\n",
    "        self.marks = marks\n",
    "\n",
    "        \n",
    "#     instance method    \n",
    "    def display(self):\n",
    "        print(\"Student Name: \", self.name)\n",
    "        print(\"Roll number: \", self.roll)\n",
    "        print(\"Marks: \", self.marks)\n",
    "        #local variable\n",
    "        college = \"UCLA\"\n",
    "        print(\"College Name: \", college)\n",
    "        print()\n",
    "        \n",
    "#static variable\n",
    "Student.college = \"UTD\"\n",
    "\n",
    "S1 = Student(\"habib\", 3407, 75)\n",
    "S2 = Student(\"karim\", 4450, 78)\n",
    "S1.display()\n",
    "S2.display()"
   ]
  },
  {
   "cell_type": "code",
   "execution_count": 37,
   "metadata": {},
   "outputs": [
    {
     "name": "stdout",
     "output_type": "stream",
     "text": [
      "Student Name:  habib\n",
      "Roll number:  3407\n",
      "Marks:  75\n",
      "College Name:  UTD\n",
      "\n",
      "Student Name:  karim\n",
      "Roll number:  4450\n",
      "Marks:  78\n",
      "College Name:  UTD\n",
      "\n"
     ]
    }
   ],
   "source": [
    "# Example 7\n",
    "class Student:\n",
    "    \n",
    "    def __init__(self, name, roll, marks): \n",
    "        \"\"\"instance variables\"\"\"\n",
    "        self.name = name\n",
    "        self.roll = roll\n",
    "        self.marks = marks\n",
    "\n",
    "        \n",
    "#     instance method    \n",
    "    def display(self):\n",
    "        print(\"Student Name: \", self.name)\n",
    "        print(\"Roll number: \", self.roll)\n",
    "        print(\"Marks: \", self.marks)\n",
    "        #local variable\n",
    "        college = \"UCLA\"\n",
    "        print(\"College Name: \", Student.college)\n",
    "        print()\n",
    "\n",
    "#static variable\n",
    "Student.college = \"UTD\"\n",
    "\n",
    "S1 = Student(\"habib\", 3407, 75)\n",
    "S2 = Student(\"karim\", 4450, 78)\n",
    "S1.display()\n",
    "S2.display()"
   ]
  },
  {
   "cell_type": "markdown",
   "metadata": {},
   "source": [
    "# Decorators (static and class methods)"
   ]
  },
  {
   "cell_type": "code",
   "execution_count": 1,
   "metadata": {},
   "outputs": [],
   "source": [
    "class demo:\n",
    "    \n",
    "    def __init__(self):\n",
    "        pass\n",
    "    \n",
    "    def A(self): #Instance Method\n",
    "        pass\n",
    "    \n",
    "    @classmethod\n",
    "    def B(cls):  #class Method\n",
    "        pass\n",
    "    \n",
    "    @staticmethod\n",
    "    def C():   # static method\n",
    "        pass\n",
    "    "
   ]
  },
  {
   "cell_type": "code",
   "execution_count": 2,
   "metadata": {},
   "outputs": [
    {
     "name": "stdout",
     "output_type": "stream",
     "text": [
      "Sum: 11\n"
     ]
    }
   ],
   "source": [
    "def add(x,y):\n",
    "    print(\"Sum:\",x+y)\n",
    "\n",
    "add(5,6)"
   ]
  },
  {
   "cell_type": "code",
   "execution_count": 5,
   "metadata": {},
   "outputs": [
    {
     "name": "stdout",
     "output_type": "stream",
     "text": [
      "Sum:  8\n"
     ]
    }
   ],
   "source": [
    "class Demo:\n",
    "    @staticmethod\n",
    "    def add(x,y):\n",
    "        print(\"Sum: \", x+y)\n",
    "D = Demo()\n",
    "D.add(3,5)"
   ]
  },
  {
   "cell_type": "code",
   "execution_count": 6,
   "metadata": {},
   "outputs": [
    {
     "name": "stdout",
     "output_type": "stream",
     "text": [
      "Sum:  8\n"
     ]
    }
   ],
   "source": [
    "class Demo:\n",
    "    \n",
    "    def add(x,y):\n",
    "        print(\"Sum: \", x+y)\n",
    "\n",
    "Demo.add(3,5)"
   ]
  },
  {
   "cell_type": "code",
   "execution_count": 7,
   "metadata": {},
   "outputs": [
    {
     "name": "stdout",
     "output_type": "stream",
     "text": [
      "Sum:  8\n"
     ]
    }
   ],
   "source": [
    "class Demo:\n",
    "    @classmethod\n",
    "    def add(cls,x,y):\n",
    "        print(\"Sum: \", x+y)\n",
    "D = Demo()\n",
    "D.add(3,5)"
   ]
  },
  {
   "cell_type": "code",
   "execution_count": 10,
   "metadata": {},
   "outputs": [
    {
     "name": "stdout",
     "output_type": "stream",
     "text": [
      "Sum:  8\n"
     ]
    }
   ],
   "source": [
    "class Demo:\n",
    "    @classmethod\n",
    "    def add(cls,x,y):\n",
    "        print(\"Sum: \", x+y)\n",
    "\n",
    "Demo.add(3,5)"
   ]
  },
  {
   "cell_type": "code",
   "execution_count": 11,
   "metadata": {},
   "outputs": [
    {
     "name": "stdout",
     "output_type": "stream",
     "text": [
      "Sum:  8\n"
     ]
    }
   ],
   "source": [
    "class Demo:\n",
    "    \n",
    "    def add(cls,x,y):\n",
    "        print(\"Sum: \", x+y)\n",
    "D = Demo()\n",
    "D.add(3,5)"
   ]
  },
  {
   "cell_type": "markdown",
   "metadata": {},
   "source": [
    "# Getter and Setter methods"
   ]
  },
  {
   "cell_type": "code",
   "execution_count": 20,
   "metadata": {},
   "outputs": [
    {
     "name": "stdout",
     "output_type": "stream",
     "text": [
      "Name:  Kabir\n",
      "Marks:  66.77\n"
     ]
    }
   ],
   "source": [
    "class Student:\n",
    "    \n",
    "    def setName(self, n):\n",
    "        self.__name = n\n",
    "    def getName(self):\n",
    "        return self.__name\n",
    "    \n",
    "    def setMarks(self, m):\n",
    "        self.__marks = m\n",
    "    def getMarks(self):\n",
    "        return self.__marks\n",
    "    \n",
    "    def display(self):\n",
    "        print(\"Name: \", self.__name)\n",
    "        print(\"Marks: \", self.__marks)\n",
    "        \n",
    "S = Student()\n",
    "S.setName(\"Kabir\")\n",
    "S.setMarks(66.77)\n",
    "S.display()"
   ]
  },
  {
   "cell_type": "code",
   "execution_count": 16,
   "metadata": {},
   "outputs": [
    {
     "name": "stdout",
     "output_type": "stream",
     "text": [
      "Name:  Kabir\n",
      "Marks:  66.77\n"
     ]
    }
   ],
   "source": [
    "class Student:\n",
    "    \n",
    "    def setName(self, n):\n",
    "        self.__name = n\n",
    "    def getName(self):\n",
    "        return self.__name\n",
    "    \n",
    "    def setMarks(self, m):\n",
    "        self.__marks = m\n",
    "    def getMarks(self):\n",
    "        return self.__marks\n",
    "    \n",
    "    def display(self):\n",
    "        print(\"Name: \", self.getName())\n",
    "        print(\"Marks: \", self.getMarks())\n",
    "        \n",
    "S = Student()\n",
    "S.setName(\"Kabir\")\n",
    "S.setMarks(66.77)\n",
    "S.display()"
   ]
  },
  {
   "cell_type": "markdown",
   "metadata": {},
   "source": [
    "# Passing object as class member "
   ]
  },
  {
   "cell_type": "code",
   "execution_count": 22,
   "metadata": {},
   "outputs": [
    {
     "name": "stdout",
     "output_type": "stream",
     "text": [
      "Student Name:  kabir khan\n",
      "Roll Number:  2029\n",
      "Marks:  33\n",
      "Comapany Name:  Alu vaja\n",
      "Salary:  39000\n"
     ]
    }
   ],
   "source": [
    "class Student:\n",
    "    \n",
    "    def __init__(self, name, roll, marks):\n",
    "        self.name = name\n",
    "        self.roll = roll\n",
    "        self.marks = marks\n",
    "        \n",
    "    def display(self):\n",
    "        print(\"Student Name: \", self.name)\n",
    "        print(\"Roll Number: \", self.roll)\n",
    "        print(\"Marks: \", self.marks)\n",
    "        \n",
    "class Placements:\n",
    "    def __init__(self, company, salary, stud):\n",
    "        self.company = company\n",
    "        self.salary = salary\n",
    "        self.stud = stud\n",
    "        \n",
    "    def display(self):\n",
    "        self.stud.display()\n",
    "        print(\"Comapany Name: \", self.company)\n",
    "        print(\"Salary: \", self.salary)\n",
    "\n",
    "S = Student(\"kabir khan\", 2029, 33)\n",
    "# S. display()\n",
    "p = Placements(\"Alu vaja\", 39000, S)\n",
    "p.display()"
   ]
  },
  {
   "cell_type": "markdown",
   "metadata": {},
   "source": [
    "# Inner Class"
   ]
  },
  {
   "cell_type": "code",
   "execution_count": 4,
   "metadata": {},
   "outputs": [
    {
     "name": "stdout",
     "output_type": "stream",
     "text": [
      "Outer class Constructor\n",
      "college Method\n",
      "Inner class constructor\n",
      "Student Method\n"
     ]
    }
   ],
   "source": [
    "class college:\n",
    "    def __init__(self):\n",
    "        print(\"Outer class Constructor\")\n",
    "    \n",
    "    class Student:\n",
    "        def __init__(self):\n",
    "            print(\"Inner class constructor\")\n",
    "        def displayS(self):\n",
    "            print(\"Student Method\")\n",
    "    def displayC(self):\n",
    "        print(\"college Method\")\n",
    "\n",
    "C = college()\n",
    "C.displayC()\n",
    "S = C.Student()\n",
    "S.displayS()"
   ]
  },
  {
   "cell_type": "code",
   "execution_count": 5,
   "metadata": {},
   "outputs": [
    {
     "name": "stdout",
     "output_type": "stream",
     "text": [
      "Outer class Constructor\n",
      "college Method\n",
      "Outer class Constructor\n",
      "Inner class constructor\n",
      "Student Method\n"
     ]
    }
   ],
   "source": [
    "class college:\n",
    "    def __init__(self):\n",
    "        print(\"Outer class Constructor\")\n",
    "    \n",
    "    class Student:\n",
    "        def __init__(self):\n",
    "            print(\"Inner class constructor\")\n",
    "        def displayS(self):\n",
    "            print(\"Student Method\")\n",
    "    def displayC(self):\n",
    "        print(\"college Method\")\n",
    "\n",
    "C = college()\n",
    "C.displayC()\n",
    "S = college().Student()\n",
    "S.displayS()"
   ]
  },
  {
   "cell_type": "markdown",
   "metadata": {},
   "source": [
    "# Class destructor"
   ]
  },
  {
   "cell_type": "code",
   "execution_count": 44,
   "metadata": {},
   "outputs": [
    {
     "name": "stdout",
     "output_type": "stream",
     "text": [
      "Constructor called\n",
      "Destructor called\n",
      "Desplay method called\n"
     ]
    }
   ],
   "source": [
    "class Demo:\n",
    "    def __init__(self):\n",
    "        print(\"Constructor called\")\n",
    "    \n",
    "    def display(self):\n",
    "        print(\"Desplay method called\")\n",
    "    \n",
    "    def __del__(self):\n",
    "        print(\"Destructor called\")\n",
    "        \n",
    "D = Demo() \n",
    "D.display()"
   ]
  },
  {
   "cell_type": "markdown",
   "metadata": {},
   "source": [
    "# Inheritance in python"
   ]
  },
  {
   "cell_type": "code",
   "execution_count": 3,
   "metadata": {},
   "outputs": [
    {
     "name": "stdout",
     "output_type": "stream",
     "text": [
      "Habib 334 85.9\n",
      "dell 48000\n"
     ]
    }
   ],
   "source": [
    "class Student:\n",
    "    def __init__(self):\n",
    "        self.name = \"\"\n",
    "        self.roll = 0\n",
    "        self.marks = 0\n",
    "    def getStudentData(self, name, roll, marks):\n",
    "        self.name = name\n",
    "        self.roll = roll\n",
    "        self.marks = marks\n",
    "    def displayS(self):\n",
    "        print(self.name, self.roll, self.marks)\n",
    "        \n",
    "class Placements(Student):\n",
    "    def __init__(self):\n",
    "        self.company = ''\n",
    "        self.package = 0\n",
    "    def getPlacementData(self, company, package):\n",
    "        self.company = company\n",
    "        self.package = package\n",
    "    def diaplayP(self):\n",
    "        print(self.company, self.package)\n",
    "        \n",
    "P = Placements()\n",
    "P.getStudentData(\"Habib\", 334, 85.90)\n",
    "P.getPlacementData(\"dell\", 48000)\n",
    "P.displayS()\n",
    "P.diaplayP()"
   ]
  },
  {
   "cell_type": "markdown",
   "metadata": {},
   "source": [
    "# Multilevel inheritance"
   ]
  },
  {
   "cell_type": "code",
   "execution_count": 6,
   "metadata": {},
   "outputs": [
    {
     "name": "stdout",
     "output_type": "stream",
     "text": [
      "Constructor B\n",
      "Method B\n",
      "Method A\n",
      "Constructor C\n",
      "Method C\n",
      "Method B\n",
      "Method A\n"
     ]
    }
   ],
   "source": [
    "class A:\n",
    "    def __init__(self):\n",
    "        print(\"Constructor A\")\n",
    "    def displayA(self):\n",
    "        print(\"Method A\")\n",
    "class B(A):\n",
    "    def __init__(self):\n",
    "        print(\"Constructor B\")\n",
    "    def displayB(self):\n",
    "        print(\"Method B\")\n",
    "class C(B):\n",
    "    def __init__(self):\n",
    "        print(\"Constructor C\")\n",
    "    def displayC(self):\n",
    "        print(\"Method C\")\n",
    "\n",
    "b = B()\n",
    "b.displayB()\n",
    "b.displayA()\n",
    "c = C()\n",
    "c.displayC()\n",
    "c.displayB()\n",
    "c.displayA()"
   ]
  },
  {
   "cell_type": "markdown",
   "metadata": {},
   "source": [
    "# Hierarchical Inheritance"
   ]
  },
  {
   "cell_type": "code",
   "execution_count": 7,
   "metadata": {},
   "outputs": [
    {
     "name": "stdout",
     "output_type": "stream",
     "text": [
      "Method-B\n",
      "Method-A\n",
      "Method-A\n",
      "Method-C\n"
     ]
    }
   ],
   "source": [
    "class A:\n",
    "    def displayA(self):\n",
    "        print(\"Method-A\")\n",
    "\n",
    "class B(A):\n",
    "    def displayB(self):\n",
    "        print(\"Method-B\")\n",
    "    \n",
    "class C(A):\n",
    "    def displayC(self):\n",
    "        print(\"Method-C\")\n",
    "\n",
    "b = B()\n",
    "b.displayB()\n",
    "b.displayA()\n",
    "c = C()\n",
    "c.displayA()\n",
    "c.displayC()"
   ]
  },
  {
   "cell_type": "markdown",
   "metadata": {},
   "source": [
    "# MULTIPLE INHERITENCE"
   ]
  },
  {
   "cell_type": "code",
   "execution_count": 8,
   "metadata": {},
   "outputs": [
    {
     "name": "stdout",
     "output_type": "stream",
     "text": [
      "Method-A\n",
      "Method-B\n",
      "Method-C\n"
     ]
    }
   ],
   "source": [
    "class A:\n",
    "    def displayA(self):\n",
    "        print(\"Method-A\")\n",
    "\n",
    "class B:\n",
    "    def displayB(self):\n",
    "        print(\"Method-B\")\n",
    "    \n",
    "class C(A,B):\n",
    "    def displayC(self):\n",
    "        print(\"Method-C\")\n",
    "    \n",
    "c = C()\n",
    "c.displayA()\n",
    "c.displayB()\n",
    "c.displayC()"
   ]
  },
  {
   "cell_type": "markdown",
   "metadata": {},
   "source": [
    "# ORDER OF INHERITANCE"
   ]
  },
  {
   "cell_type": "code",
   "execution_count": 12,
   "metadata": {},
   "outputs": [
    {
     "name": "stdout",
     "output_type": "stream",
     "text": [
      "Method-A\n"
     ]
    }
   ],
   "source": [
    "class A:\n",
    "    def display(self):\n",
    "        print(\"Method-A\")\n",
    "\n",
    "class B:\n",
    "    def display(self):\n",
    "        print(\"Method-B\")\n",
    "    \n",
    "class C(A,B): #will work in order of precedence \n",
    "    def displayC(self):\n",
    "        print(\"Method-C\")\n",
    "    \n",
    "c = C()\n",
    "c.display()"
   ]
  },
  {
   "cell_type": "code",
   "execution_count": 14,
   "metadata": {},
   "outputs": [
    {
     "name": "stdout",
     "output_type": "stream",
     "text": [
      "Method-B\n"
     ]
    }
   ],
   "source": [
    "class A:\n",
    "    def display(self):\n",
    "        print(\"Method-A\")\n",
    "\n",
    "class B:\n",
    "    def display(self):\n",
    "        print(\"Method-B\")\n",
    "    \n",
    "class C(B,A):  #will work in order of precedence\n",
    "    def displayC(self):\n",
    "        print(\"Method-C\")\n",
    "    \n",
    "c = C()\n",
    "c.display()"
   ]
  },
  {
   "cell_type": "markdown",
   "metadata": {},
   "source": [
    "# Hybrid Inheritance"
   ]
  },
  {
   "cell_type": "code",
   "execution_count": 15,
   "metadata": {},
   "outputs": [
    {
     "name": "stdout",
     "output_type": "stream",
     "text": [
      "Method-A\n",
      "Method-B\n",
      "Method-C\n",
      "Method-D\n"
     ]
    }
   ],
   "source": [
    "class A:\n",
    "    def displayA(self):\n",
    "        print(\"Method-A\")\n",
    "\n",
    "class B(A):\n",
    "    def displayB(self):\n",
    "        print(\"Method-B\")\n",
    "    \n",
    "class C(A):\n",
    "    def displayC(self):\n",
    "        print(\"Method-C\")\n",
    "    \n",
    "class D(B,C):\n",
    "    def displayD(self):\n",
    "        print(\"Method-D\")\n",
    "\n",
    "d = D()\n",
    "d.displayA()\n",
    "d.displayB()\n",
    "d.displayC()\n",
    "d.displayD()"
   ]
  },
  {
   "cell_type": "markdown",
   "metadata": {},
   "source": [
    "# Polymorphism"
   ]
  },
  {
   "cell_type": "markdown",
   "metadata": {},
   "source": [
    "different form in the same method"
   ]
  },
  {
   "cell_type": "code",
   "execution_count": 2,
   "metadata": {},
   "outputs": [
    {
     "name": "stdout",
     "output_type": "stream",
     "text": [
      "Value:  0\n"
     ]
    }
   ],
   "source": [
    "class Demo:\n",
    "    def display(self):\n",
    "        print(\"Value: \",0)\n",
    "        \n",
    "\n",
    "\n",
    "D = Demo()\n",
    "D.display()"
   ]
  },
  {
   "cell_type": "code",
   "execution_count": 3,
   "metadata": {},
   "outputs": [
    {
     "ename": "TypeError",
     "evalue": "display() missing 1 required positional argument: 'x'",
     "output_type": "error",
     "traceback": [
      "\u001b[1;31m---------------------------------------------------------------------------\u001b[0m",
      "\u001b[1;31mTypeError\u001b[0m                                 Traceback (most recent call last)",
      "\u001b[1;32m<ipython-input-3-e6ef3cbae63e>\u001b[0m in \u001b[0;36m<module>\u001b[1;34m\u001b[0m\n\u001b[0;32m      7\u001b[0m \u001b[1;33m\u001b[0m\u001b[0m\n\u001b[0;32m      8\u001b[0m \u001b[0mD\u001b[0m \u001b[1;33m=\u001b[0m \u001b[0mDemo\u001b[0m\u001b[1;33m(\u001b[0m\u001b[1;33m)\u001b[0m\u001b[1;33m\u001b[0m\u001b[1;33m\u001b[0m\u001b[0m\n\u001b[1;32m----> 9\u001b[1;33m \u001b[0mD\u001b[0m\u001b[1;33m.\u001b[0m\u001b[0mdisplay\u001b[0m\u001b[1;33m(\u001b[0m\u001b[1;33m)\u001b[0m\u001b[1;33m\u001b[0m\u001b[1;33m\u001b[0m\u001b[0m\n\u001b[0m",
      "\u001b[1;31mTypeError\u001b[0m: display() missing 1 required positional argument: 'x'"
     ]
    }
   ],
   "source": [
    "class Demo:\n",
    "    def display(self):\n",
    "        print(\"Value: \",0)\n",
    "        \n",
    "    def display(self,x):\n",
    "        print(\"Value: \", x)\n",
    "\n",
    "D = Demo()\n",
    "D.display()"
   ]
  },
  {
   "cell_type": "code",
   "execution_count": 4,
   "metadata": {},
   "outputs": [
    {
     "name": "stdout",
     "output_type": "stream",
     "text": [
      "Value:  11\n"
     ]
    }
   ],
   "source": [
    "class Demo:\n",
    "    def display(self):\n",
    "        print(\"Value: \",0)\n",
    "        \n",
    "    def display(self,x):\n",
    "        print(\"Value: \", x)\n",
    "\n",
    "D = Demo()\n",
    "D.display(11)"
   ]
  },
  {
   "cell_type": "code",
   "execution_count": 5,
   "metadata": {},
   "outputs": [
    {
     "name": "stdout",
     "output_type": "stream",
     "text": [
      "Value:  11 33\n"
     ]
    }
   ],
   "source": [
    "class Demo:\n",
    "    def display(self):\n",
    "        print(\"Value: \",0)\n",
    "        \n",
    "    def display(self,x):\n",
    "        print(\"Value: \", x)\n",
    "        \n",
    "    def display(self,x,y):\n",
    "        print(\"Value: \", x,y)\n",
    "\n",
    "D = Demo()\n",
    "D.display(11,33)"
   ]
  },
  {
   "cell_type": "code",
   "execution_count": 6,
   "metadata": {},
   "outputs": [
    {
     "name": "stdout",
     "output_type": "stream",
     "text": [
      "Value:  29\n"
     ]
    }
   ],
   "source": [
    "class A:\n",
    "    def display(self):\n",
    "        print(\"Value: \",0)\n",
    "    \n",
    "class B(A):\n",
    "    def display(self,x):\n",
    "        print(\"Value: \", x)\n",
    "        \n",
    "b = B()\n",
    "b.display(29)"
   ]
  },
  {
   "cell_type": "code",
   "execution_count": null,
   "metadata": {},
   "outputs": [],
   "source": []
  }
 ],
 "metadata": {
  "kernelspec": {
   "display_name": "Python 3",
   "language": "python",
   "name": "python3"
  },
  "language_info": {
   "codemirror_mode": {
    "name": "ipython",
    "version": 3
   },
   "file_extension": ".py",
   "mimetype": "text/x-python",
   "name": "python",
   "nbconvert_exporter": "python",
   "pygments_lexer": "ipython3",
   "version": "3.7.6"
  }
 },
 "nbformat": 4,
 "nbformat_minor": 4
}
